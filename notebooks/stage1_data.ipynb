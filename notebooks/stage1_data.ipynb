{
 "cells": [
  {
   "cell_type": "markdown",
   "id": "cbcca3e9-9db8-4400-b5ab-5807bbf16f41",
   "metadata": {},
   "source": [
    "# MLOps stage 1 : Data Management and Exploration"
   ]
  },
  {
   "cell_type": "markdown",
   "id": "36a7b82c-4c7f-45b5-82d1-a9b51cd74e8b",
   "metadata": {},
   "source": [
    "## Overview"
   ]
  },
  {
   "cell_type": "markdown",
   "id": "87ee2795-289b-4abd-b2f8-88c2dafb7553",
   "metadata": {},
   "source": [
    "This tutorial demonstrates how to use Vertex AI for E2E MLOps on Google Cloud in production"
   ]
  },
  {
   "cell_type": "markdown",
   "id": "dfc55993-8da7-43dc-96a3-095039f47a29",
   "metadata": {},
   "source": [
    "## Objective"
   ]
  },
  {
   "cell_type": "markdown",
   "id": "5d692eab-1755-4646-a652-db364025f662",
   "metadata": {},
   "source": [
    "In this tutorial, you learn how to use BigQuery as a dataset for training with Vertex AI.\n",
    "\n",
    "This tutorial uses the following Google Cloud ML services:\n",
    "- Vertex AI Datasets\n",
    "- BigQuery Datasets\n",
    "\n",
    "The steps performed include:\n",
    "- Create a BigQuery dataset from CSV files.\n",
    "- Create a Vertex AI Dataset resource from BigQuery table\n",
    "- Select rows from a BigQuery dataset into a pandas dataframe -- compatible for custom training."
   ]
  },
  {
   "cell_type": "markdown",
   "id": "3b80ac0a-1952-4f05-bebb-a8d57c2d2c04",
   "metadata": {},
   "source": [
    "## Dataset"
   ]
  },
  {
   "cell_type": "markdown",
   "id": "56dd4f82-434d-4f01-a1ca-bd6f5d9331d8",
   "metadata": {},
   "source": [
    "The dataset used in this example is the [Synthetic Financial Fraud dataset from Kaggle](https://www.kaggle.com/datasets/ealaxi/paysim1). PaySim simulates mobile money transactions based on a sample of real transactions extracted from one month of financial logs from a mobile money service implemented in an African country. The original logs were provided by a multinational company, who is the provider of the mobile financial service which is currently running in more than 14 countries all around the world."
   ]
  },
  {
   "cell_type": "markdown",
   "id": "336afbf7-8885-4438-bd34-74abc80bedb3",
   "metadata": {},
   "source": [
    "### Installations"
   ]
  },
  {
   "cell_type": "code",
   "execution_count": 3,
   "id": "4e6578da-1873-4029-b6a1-d0db58eef0ef",
   "metadata": {},
   "outputs": [],
   "source": [
    "import os\n",
    "\n",
    "# The Vertex AI Workbench Notebook product has specific requirements\n",
    "IS_WORKBENCH_NOTEBOOK = os.getenv(\"DL_ANACONDA_HOME\") and not os.getenv(\"VIRTUAL_ENV\")\n",
    "IS_USER_MANAGED_WORKBENCH_NOTEBOOK = os.path.exists(\n",
    "    \"/opt/deeplearning/metadata/env_version\"\n",
    ")\n",
    "\n",
    "# Vertex AI Notebook requires dependencies to be installed with '--user'\n",
    "USER_FLAG = \"\"\n",
    "if IS_WORKBENCH_NOTEBOOK:\n",
    "    USER_FLAG = \"--user\"\n",
    "\n",
    "ONCE_ONLY = False\n",
    "if ONCE_ONLY:\n",
    "    ! pip3 install -U {USER_FLAG} -q tensorflow==2.5 \\\n",
    "                                     tensorflow-data-validation==1.2 \\\n",
    "                                     tensorflow-transform==1.2 \\\n",
    "                                     tensorflow-io==0.18 \n",
    "    \n",
    "    ! pip3 install --upgrade {USER_FLAG} -q google-cloud-aiplatform[tensorboard] \\\n",
    "                                            google-cloud-pipeline-components \\\n",
    "                                            google-cloud-bigquery \\\n",
    "                                            google-cloud-logging \\\n",
    "                                            apache-beam[gcp] \\\n",
    "                                            pyarrow \\\n",
    "                                            cloudml-hypertune"
   ]
  },
  {
   "cell_type": "code",
   "execution_count": 4,
   "id": "1bab6098-40a2-4575-82fe-367fddaf787a",
   "metadata": {},
   "outputs": [],
   "source": [
    "# Restart the kernel\n",
    "import os\n",
    "\n",
    "if not os.getenv(\"IS_TESTING\"):\n",
    "    # Automatically restart kernel after installs\n",
    "    import IPython\n",
    "\n",
    "    app = IPython.Application.instance()\n",
    "    app.kernel.do_shutdown(True)"
   ]
  },
  {
   "cell_type": "markdown",
   "id": "663f6fd5-3c7f-45a2-833b-1f64d00ec7fb",
   "metadata": {},
   "source": [
    "## Import Libraries and Define Constants"
   ]
  },
  {
   "cell_type": "code",
   "execution_count": 1,
   "id": "40bf3c1f-561f-4031-a533-00b469ed603c",
   "metadata": {},
   "outputs": [
    {
     "name": "stderr",
     "output_type": "stream",
     "text": [
      "2022-11-09 17:55:42.633290: I tensorflow/core/platform/cpu_feature_guard.cc:193] This TensorFlow binary is optimized with oneAPI Deep Neural Network Library (oneDNN) to use the following CPU instructions in performance-critical operations:  AVX2 FMA\n",
      "To enable them in other operations, rebuild TensorFlow with the appropriate compiler flags.\n",
      "2022-11-09 17:55:47.469222: E tensorflow/stream_executor/cuda/cuda_blas.cc:2981] Unable to register cuBLAS factory: Attempting to register factory for plugin cuBLAS when one has already been registered\n",
      "2022-11-09 17:55:55.159357: W tensorflow/stream_executor/platform/default/dso_loader.cc:64] Could not load dynamic library 'libnvinfer.so.7'; dlerror: libnvinfer.so.7: cannot open shared object file: No such file or directory; LD_LIBRARY_PATH: /usr/local/cuda/lib64:/usr/local/cuda/lib:/usr/local/lib/x86_64-linux-gnu:/usr/local/nvidia/lib:/usr/local/nvidia/lib64:/usr/local/nvidia/lib:/usr/local/nvidia/lib64\n",
      "2022-11-09 17:55:55.159716: W tensorflow/stream_executor/platform/default/dso_loader.cc:64] Could not load dynamic library 'libnvinfer_plugin.so.7'; dlerror: libnvinfer_plugin.so.7: cannot open shared object file: No such file or directory; LD_LIBRARY_PATH: /usr/local/cuda/lib64:/usr/local/cuda/lib:/usr/local/lib/x86_64-linux-gnu:/usr/local/nvidia/lib:/usr/local/nvidia/lib64:/usr/local/nvidia/lib:/usr/local/nvidia/lib64\n",
      "2022-11-09 17:55:55.159735: W tensorflow/compiler/tf2tensorrt/utils/py_utils.cc:38] TF-TRT Warning: Cannot dlopen some TensorRT libraries. If you would like to use Nvidia GPU with TensorRT, please make sure the missing libraries mentioned above are installed properly.\n"
     ]
    }
   ],
   "source": [
    "import google.cloud.aiplatform as aip\n",
    "import tensorflow as tf\n",
    "import tensorflow_data_validation as tfdv\n",
    "import pandas as pd\n",
    "from google.cloud import bigquery"
   ]
  },
  {
   "cell_type": "code",
   "execution_count": 2,
   "id": "7f6ca5fd-259a-4577-bd2b-87229cf3fbb0",
   "metadata": {},
   "outputs": [],
   "source": [
    "REGION='us-central1'\n",
    "PROJECT_ID='bq-experiments-350102'"
   ]
  },
  {
   "cell_type": "code",
   "execution_count": 3,
   "id": "c3674380-a789-4050-98c4-afe1e8e4ccf6",
   "metadata": {},
   "outputs": [],
   "source": [
    "BUCKET_NAME = \"bq-experiments-fraud\"\n",
    "BUCKET_URI = f\"gs://{BUCKET_NAME}\""
   ]
  },
  {
   "cell_type": "markdown",
   "id": "92ed0281-e52a-4990-945b-7c70ea85d3cf",
   "metadata": {},
   "source": [
    "## Initialize Vertex AI SDK for Python"
   ]
  },
  {
   "cell_type": "code",
   "execution_count": 4,
   "id": "56661f31-232c-4205-bd34-82dbbfbdee33",
   "metadata": {},
   "outputs": [],
   "source": [
    "aip.init(project=PROJECT_ID, location=REGION)"
   ]
  },
  {
   "cell_type": "markdown",
   "id": "be872ec1-aaa1-4c34-9dbb-fe590c97bb1f",
   "metadata": {},
   "source": [
    "## Data Dictionary"
   ]
  },
  {
   "cell_type": "markdown",
   "id": "6d59d7c3-0df4-45fb-aeb7-1dc2e6e529df",
   "metadata": {},
   "source": [
    "**step**: **int**: 1-743:  Maps a unit of time in the real world. In this case 1 step is 1 hour of time. <br>\n",
    "**type**: **enum**: CASH-IN, CASH-OUT, DEBIT, PAYMENT and TRANSFER <br>\n",
    "**amount**: **decimal**: 0-92.4m: amount of the transaction in local currency. <br>\n",
    "**nameOrig**: **string**: 6353307 unique values: customer who started the transaction. <br>\n",
    "**oldBalanceOrg**: **decimal**: 0-59.6m: initial balance before the transaction. <br>\n",
    "**newBalanceOrig**: **decimal**: 0-49.6m: customer's balance after the transaction. <br>\n",
    "**nameDest**: **string**: 2722326 unique values: recipient ID of the transaction. <br>\n",
    "**oldBalanceDest**: **decimal**: 0-356m: initial recipient balance before the transaction. <br>\n",
    "**newBalanceDest**: **decimal**: 0-356m: recipient's balance after the transaction. <br>\n",
    "**isFraud**: **boolean**: 0-1: identifies a fraudulent transaction (1) and non fraudulent (0)<br>"
   ]
  },
  {
   "cell_type": "markdown",
   "id": "454286af-0c79-4ad8-a7ae-a157506f8dcb",
   "metadata": {},
   "source": [
    "## Create BigQuery Client"
   ]
  },
  {
   "cell_type": "code",
   "execution_count": 5,
   "id": "c73a30c9-20dc-4a2c-b41b-b574aff439a1",
   "metadata": {},
   "outputs": [],
   "source": [
    "bqclient = bigquery.Client(project=PROJECT_ID)"
   ]
  },
  {
   "cell_type": "markdown",
   "id": "19c1c60a-becd-48cc-9b5b-4203533f1dc2",
   "metadata": {},
   "source": [
    "## Create Dataset"
   ]
  },
  {
   "cell_type": "code",
   "execution_count": 6,
   "id": "3dd555da-d045-4f72-931a-15aa16b70253",
   "metadata": {},
   "outputs": [],
   "source": [
    "IMPORT_FILE = \"bq://bq-experiments-350102.synthetic_financial_fraud.fraud_data\"\n",
    "BQ_TABLE = \"bq-experiments-350102.synthetic_financial_fraud.fraud_data\""
   ]
  },
  {
   "cell_type": "code",
   "execution_count": 7,
   "id": "19e09413-74b0-477d-a7b4-1061cd8990c0",
   "metadata": {},
   "outputs": [
    {
     "name": "stdout",
     "output_type": "stream",
     "text": [
      "Created dataset bq-experiments-350102.synthetic_financial_fraud\n"
     ]
    }
   ],
   "source": [
    "# Send the dataset to the API for creation, with an explicit timeout.\n",
    "# Raises google.api_core.exceptions.Conflict if the Dataset already\n",
    "# exists within the project.\n",
    "dataset_id = \"bq-experiments-350102.synthetic_financial_fraud\"\n",
    "dataset = bigquery.Dataset(dataset_id)\n",
    "dataset.location = \"US\"\n",
    "dataset = bqclient.create_dataset(dataset, timeout=30)  # Make an API request.\n",
    "print(\"Created dataset {}.{}\".format(bqclient.project, dataset.dataset_id))"
   ]
  },
  {
   "cell_type": "markdown",
   "id": "f5f291f8-c1da-484c-9a4e-8b31153f9da2",
   "metadata": {},
   "source": [
    "## Create BiqQuery Load Job"
   ]
  },
  {
   "cell_type": "code",
   "execution_count": 8,
   "id": "5a049dbd-490c-4171-af0f-fa4c7afe4455",
   "metadata": {},
   "outputs": [
    {
     "name": "stdout",
     "output_type": "stream",
     "text": [
      "Loaded 6362620 rows to table bq-experiments-350102.synthetic_financial_fraud.fraud_data\n"
     ]
    }
   ],
   "source": [
    "table_id = BQ_TABLE\n",
    "\n",
    "job_config = bigquery.LoadJobConfig(\n",
    "    autodetect=False,\n",
    "    schema=[\n",
    "        bigquery.SchemaField(\"step\", \"INT64\", mode=\"REQUIRED\"),\n",
    "        bigquery.SchemaField(\"type\", \"STRING\", mode=\"REQUIRED\"),\n",
    "        bigquery.SchemaField(\"amount\", \"FLOAT64\", mode=\"REQUIRED\"),\n",
    "        bigquery.SchemaField(\"nameOrig\", \"STRING\", mode=\"REQUIRED\"),\n",
    "        bigquery.SchemaField(\"oldBalanceOrg\", \"FLOAT64\", mode=\"REQUIRED\"),\n",
    "        bigquery.SchemaField(\"newBalanceOrig\", \"FLOAT64\", mode=\"REQUIRED\"),\n",
    "        bigquery.SchemaField(\"nameDest\", \"STRING\", mode=\"REQUIRED\"),\n",
    "        bigquery.SchemaField(\"oldBalanceDest\", \"FLOAT64\", mode=\"REQUIRED\"),\n",
    "        bigquery.SchemaField(\"newBalanceDest\", \"FLOAT64\", mode=\"REQUIRED\"),\n",
    "        bigquery.SchemaField(\"isFraud\", \"BOOL\", mode=\"REQUIRED\"),\n",
    "        bigquery.SchemaField(\"isFlaggedFraud\", \"BOOL\", mode=\"REQUIRED\"),\n",
    "    ],\n",
    "    source_format=bigquery.SourceFormat.CSV,\n",
    "    write_disposition=\"WRITE_TRUNCATE\",\n",
    "    skip_leading_rows=1\n",
    ")\n",
    "uri = \"gs://bq-experiments-fraud/synthetic-fraud.csv\"\n",
    "\n",
    "load_job = bqclient.load_table_from_uri(\n",
    "    uri, table_id, job_config=job_config\n",
    ")  # Make an API request.\n",
    "\n",
    "load_job.result()  # Wait for the job to complete.\n",
    "\n",
    "table = bqclient.get_table(table_id)\n",
    "print(\"Loaded {} rows to table {}\".format(table.num_rows, table_id))"
   ]
  },
  {
   "cell_type": "markdown",
   "id": "d8811422-3835-446b-b284-f4a5bddf96da",
   "metadata": {},
   "source": [
    "## Explore BigQuery Dataset"
   ]
  },
  {
   "cell_type": "code",
   "execution_count": 7,
   "id": "b7302d35-9974-40b3-9fbd-c58124e2a333",
   "metadata": {},
   "outputs": [
    {
     "data": {
      "text/html": [
       "<div>\n",
       "<style scoped>\n",
       "    .dataframe tbody tr th:only-of-type {\n",
       "        vertical-align: middle;\n",
       "    }\n",
       "\n",
       "    .dataframe tbody tr th {\n",
       "        vertical-align: top;\n",
       "    }\n",
       "\n",
       "    .dataframe thead th {\n",
       "        text-align: right;\n",
       "    }\n",
       "</style>\n",
       "<table border=\"1\" class=\"dataframe\">\n",
       "  <thead>\n",
       "    <tr style=\"text-align: right;\">\n",
       "      <th></th>\n",
       "      <th>step</th>\n",
       "      <th>type</th>\n",
       "      <th>amount</th>\n",
       "      <th>nameOrig</th>\n",
       "      <th>oldBalanceOrg</th>\n",
       "      <th>newBalanceOrig</th>\n",
       "      <th>nameDest</th>\n",
       "      <th>oldBalanceDest</th>\n",
       "      <th>newBalanceDest</th>\n",
       "      <th>isFraud</th>\n",
       "      <th>isFlaggedFraud</th>\n",
       "    </tr>\n",
       "  </thead>\n",
       "  <tbody>\n",
       "    <tr>\n",
       "      <th>0</th>\n",
       "      <td>255</td>\n",
       "      <td>DEBIT</td>\n",
       "      <td>3188.16</td>\n",
       "      <td>C389755673</td>\n",
       "      <td>29321.00</td>\n",
       "      <td>26132.84</td>\n",
       "      <td>C944464188</td>\n",
       "      <td>123342.90</td>\n",
       "      <td>126531.06</td>\n",
       "      <td>False</td>\n",
       "      <td>False</td>\n",
       "    </tr>\n",
       "    <tr>\n",
       "      <th>1</th>\n",
       "      <td>258</td>\n",
       "      <td>DEBIT</td>\n",
       "      <td>2488.01</td>\n",
       "      <td>C1943465811</td>\n",
       "      <td>20206.00</td>\n",
       "      <td>17717.99</td>\n",
       "      <td>C1935607545</td>\n",
       "      <td>5638603.71</td>\n",
       "      <td>5641091.72</td>\n",
       "      <td>False</td>\n",
       "      <td>False</td>\n",
       "    </tr>\n",
       "    <tr>\n",
       "      <th>2</th>\n",
       "      <td>1</td>\n",
       "      <td>DEBIT</td>\n",
       "      <td>2633.08</td>\n",
       "      <td>C1290614253</td>\n",
       "      <td>124905.00</td>\n",
       "      <td>122271.92</td>\n",
       "      <td>C1992550266</td>\n",
       "      <td>17146.00</td>\n",
       "      <td>0.00</td>\n",
       "      <td>False</td>\n",
       "      <td>False</td>\n",
       "    </tr>\n",
       "    <tr>\n",
       "      <th>3</th>\n",
       "      <td>266</td>\n",
       "      <td>DEBIT</td>\n",
       "      <td>1402.09</td>\n",
       "      <td>C2057629098</td>\n",
       "      <td>9990.00</td>\n",
       "      <td>8587.91</td>\n",
       "      <td>C1824011138</td>\n",
       "      <td>646222.73</td>\n",
       "      <td>647624.82</td>\n",
       "      <td>False</td>\n",
       "      <td>False</td>\n",
       "    </tr>\n",
       "    <tr>\n",
       "      <th>4</th>\n",
       "      <td>275</td>\n",
       "      <td>DEBIT</td>\n",
       "      <td>4927.73</td>\n",
       "      <td>C1136589927</td>\n",
       "      <td>184306.31</td>\n",
       "      <td>179378.58</td>\n",
       "      <td>C1245026661</td>\n",
       "      <td>1046650.66</td>\n",
       "      <td>1051578.39</td>\n",
       "      <td>False</td>\n",
       "      <td>False</td>\n",
       "    </tr>\n",
       "    <tr>\n",
       "      <th>5</th>\n",
       "      <td>21</td>\n",
       "      <td>DEBIT</td>\n",
       "      <td>811.90</td>\n",
       "      <td>C1967993506</td>\n",
       "      <td>16968.00</td>\n",
       "      <td>16156.10</td>\n",
       "      <td>C1585827223</td>\n",
       "      <td>71221.00</td>\n",
       "      <td>47517.08</td>\n",
       "      <td>False</td>\n",
       "      <td>False</td>\n",
       "    </tr>\n",
       "    <tr>\n",
       "      <th>6</th>\n",
       "      <td>21</td>\n",
       "      <td>DEBIT</td>\n",
       "      <td>4825.13</td>\n",
       "      <td>C1335966015</td>\n",
       "      <td>11112.00</td>\n",
       "      <td>6286.87</td>\n",
       "      <td>C1692363435</td>\n",
       "      <td>370704.19</td>\n",
       "      <td>375529.33</td>\n",
       "      <td>False</td>\n",
       "      <td>False</td>\n",
       "    </tr>\n",
       "    <tr>\n",
       "      <th>7</th>\n",
       "      <td>285</td>\n",
       "      <td>DEBIT</td>\n",
       "      <td>3554.68</td>\n",
       "      <td>C726737289</td>\n",
       "      <td>34695.00</td>\n",
       "      <td>31140.32</td>\n",
       "      <td>C1686875619</td>\n",
       "      <td>11272346.85</td>\n",
       "      <td>11275901.54</td>\n",
       "      <td>False</td>\n",
       "      <td>False</td>\n",
       "    </tr>\n",
       "    <tr>\n",
       "      <th>8</th>\n",
       "      <td>299</td>\n",
       "      <td>DEBIT</td>\n",
       "      <td>3183.18</td>\n",
       "      <td>C69438864</td>\n",
       "      <td>0.00</td>\n",
       "      <td>0.00</td>\n",
       "      <td>C1783180469</td>\n",
       "      <td>133928.89</td>\n",
       "      <td>137112.08</td>\n",
       "      <td>False</td>\n",
       "      <td>False</td>\n",
       "    </tr>\n",
       "    <tr>\n",
       "      <th>9</th>\n",
       "      <td>311</td>\n",
       "      <td>DEBIT</td>\n",
       "      <td>3944.99</td>\n",
       "      <td>C870531589</td>\n",
       "      <td>46741.00</td>\n",
       "      <td>42796.01</td>\n",
       "      <td>C1474446515</td>\n",
       "      <td>643826.85</td>\n",
       "      <td>647771.84</td>\n",
       "      <td>False</td>\n",
       "      <td>False</td>\n",
       "    </tr>\n",
       "  </tbody>\n",
       "</table>\n",
       "</div>"
      ],
      "text/plain": [
       "   step   type   amount     nameOrig  oldBalanceOrg  newBalanceOrig  \\\n",
       "0   255  DEBIT  3188.16   C389755673       29321.00        26132.84   \n",
       "1   258  DEBIT  2488.01  C1943465811       20206.00        17717.99   \n",
       "2     1  DEBIT  2633.08  C1290614253      124905.00       122271.92   \n",
       "3   266  DEBIT  1402.09  C2057629098        9990.00         8587.91   \n",
       "4   275  DEBIT  4927.73  C1136589927      184306.31       179378.58   \n",
       "5    21  DEBIT   811.90  C1967993506       16968.00        16156.10   \n",
       "6    21  DEBIT  4825.13  C1335966015       11112.00         6286.87   \n",
       "7   285  DEBIT  3554.68   C726737289       34695.00        31140.32   \n",
       "8   299  DEBIT  3183.18    C69438864           0.00            0.00   \n",
       "9   311  DEBIT  3944.99   C870531589       46741.00        42796.01   \n",
       "\n",
       "      nameDest  oldBalanceDest  newBalanceDest  isFraud  isFlaggedFraud  \n",
       "0   C944464188       123342.90       126531.06    False           False  \n",
       "1  C1935607545      5638603.71      5641091.72    False           False  \n",
       "2  C1992550266        17146.00            0.00    False           False  \n",
       "3  C1824011138       646222.73       647624.82    False           False  \n",
       "4  C1245026661      1046650.66      1051578.39    False           False  \n",
       "5  C1585827223        71221.00        47517.08    False           False  \n",
       "6  C1692363435       370704.19       375529.33    False           False  \n",
       "7  C1686875619     11272346.85     11275901.54    False           False  \n",
       "8  C1783180469       133928.89       137112.08    False           False  \n",
       "9  C1474446515       643826.85       647771.84    False           False  "
      ]
     },
     "execution_count": 7,
     "metadata": {},
     "output_type": "execute_result"
    }
   ],
   "source": [
    "query = \"\"\"\n",
    "    SELECT step,\n",
    "        type, \n",
    "        amount,\n",
    "        nameOrig,\n",
    "        oldBalanceOrg,\n",
    "        newBalanceOrig,\n",
    "        nameDest,\n",
    "        oldBalanceDest,\n",
    "        newBalanceDest,\n",
    "        isFraud,\n",
    "        isFlaggedFraud\n",
    "    FROM `bq-experiments-350102.synthetic_financial_fraud.fraud_data`\n",
    "\"\"\"\n",
    "\n",
    "_ = bqclient.query(query)\n",
    "rows = _.result()\n",
    "dataframe = rows.to_dataframe()\n",
    "dataframe.head(10)"
   ]
  },
  {
   "cell_type": "code",
   "execution_count": 8,
   "id": "22cce5a4-0468-41b8-a23e-176ed965d055",
   "metadata": {},
   "outputs": [
    {
     "name": "stdout",
     "output_type": "stream",
     "text": [
      "The types of fraudulent transactions are ['CASH_OUT', 'TRANSFER']\n"
     ]
    }
   ],
   "source": [
    "print('The types of fraudulent transactions are {}'.format(list(dataframe.loc[dataframe.isFraud == 1].type.drop_duplicates().values)))"
   ]
  },
  {
   "cell_type": "code",
   "execution_count": 9,
   "id": "674bcc81-fd3b-4764-b5bc-235b5d452563",
   "metadata": {},
   "outputs": [
    {
     "name": "stdout",
     "output_type": "stream",
     "text": [
      "The number of fraudulent TRANSFERs = 4097\n"
     ]
    }
   ],
   "source": [
    "dfFraudTransfer = dataframe.loc[(dataframe.isFraud == 1) & (dataframe.type == 'TRANSFER')]\n",
    "print ('The number of fraudulent TRANSFERs = {}'.format(len(dfFraudTransfer)))"
   ]
  },
  {
   "cell_type": "code",
   "execution_count": 10,
   "id": "1b5c9bfa-9f15-4f0f-9b2c-e919add565ce",
   "metadata": {},
   "outputs": [
    {
     "name": "stdout",
     "output_type": "stream",
     "text": [
      "The number of fraudulent CASH_OUTs = 4116\n"
     ]
    }
   ],
   "source": [
    "dfFraudCashout = dataframe.loc[(dataframe.isFraud == 1) & (dataframe.type == 'CASH_OUT')]\n",
    "print ('The number of fraudulent CASH_OUTs = {}'.format(len(dfFraudCashout)))"
   ]
  },
  {
   "cell_type": "code",
   "execution_count": 8,
   "id": "31a1d4de-325b-49d6-ab7d-6044790a0890",
   "metadata": {},
   "outputs": [
    {
     "data": {
      "text/plain": [
       "<AxesSubplot:ylabel='amount'>"
      ]
     },
     "execution_count": 8,
     "metadata": {},
     "output_type": "execute_result"
    },
    {
     "data": {
      "image/png": "[encoded data removed]",
      "text/plain": [
       "<Figure size 800x800 with 1 Axes>"
      ]
     },
     "metadata": {},
     "output_type": "display_data"
    }
   ],
   "source": [
    "dataframe.groupby('type')['amount'].sum().plot.pie(y='amount', figsize=(8, 8))"
   ]
  },
  {
   "cell_type": "code",
   "execution_count": 9,
   "id": "dfcb3d22-9822-4bba-a9f9-1e510f6ec8ac",
   "metadata": {},
   "outputs": [
    {
     "data": {
      "text/plain": [
       "<AxesSubplot:ylabel='type,isFraud'>"
      ]
     },
     "execution_count": 9,
     "metadata": {},
     "output_type": "execute_result"
    },
    {
     "data": {
      "image/png": "[encoded data removed]",
      "text/plain": [
       "<Figure size 1600x600 with 1 Axes>"
      ]
     },
     "metadata": {},
     "output_type": "display_data"
    }
   ],
   "source": [
    "dataframe.groupby('type')['isFraud'].value_counts().plot.barh(x='type', y='isFraud', figsize=(16,6))"
   ]
  },
  {
   "cell_type": "markdown",
   "id": "cecd2e84-a71f-477d-832f-18e4aa3a21d3",
   "metadata": {},
   "source": [
    "## Create Vertex Managed Dataset"
   ]
  },
  {
   "cell_type": "markdown",
   "id": "5718e10d-bd1a-4035-a13e-1fe82097bf33",
   "metadata": {},
   "source": [
    "Create the Dataset resource using the create method for the TabularDataset class, which takes the following parameters:\n",
    "- display_name: The human readable name for the Dataset resource.\n",
    "- bq_source: Import data items from a BigQuery table into the Dataset resource.\n",
    "- labels: User defined metadata. In this example, you store the location of the Cloud Storage bucket containing the user defined data."
   ]
  },
  {
   "cell_type": "code",
   "execution_count": 10,
   "id": "48b04990-1017-441d-a2d9-62fd44f4218c",
   "metadata": {},
   "outputs": [],
   "source": [
    "from datetime import datetime\n",
    "\n",
    "TIMESTAMP = datetime.now().strftime(\"%Y%m%d%H%M%S\")"
   ]
  },
  {
   "cell_type": "code",
   "execution_count": 11,
   "id": "9cdd4906-3225-47a5-8d3d-60cd5d04fdda",
   "metadata": {},
   "outputs": [
    {
     "name": "stdout",
     "output_type": "stream",
     "text": [
      "Creating TabularDataset\n",
      "Create TabularDataset backing LRO: projects/402374189238/locations/us-central1/datasets/8805577409509195776/operations/885618476863979520\n",
      "TabularDataset created. Resource name: projects/402374189238/locations/us-central1/datasets/8805577409509195776\n",
      "To use this TabularDataset in another session:\n",
      "ds = aiplatform.TabularDataset('projects/402374189238/locations/us-central1/datasets/8805577409509195776')\n",
      "projects/402374189238/locations/us-central1/datasets/8805577409509195776\n"
     ]
    }
   ],
   "source": [
    "dataset = aip.TabularDataset.create(\n",
    "    display_name=\"Synthetic Financial Fraud\" + \"_\" + TIMESTAMP,\n",
    "    bq_source=[IMPORT_FILE],\n",
    "    labels={\"user_metadata\": BUCKET_NAME},\n",
    ")\n",
    "\n",
    "label_column = \"tip_bin\"\n",
    "\n",
    "print(dataset.resource_name)"
   ]
  },
  {
   "cell_type": "markdown",
   "id": "45fa987c-2a98-4301-92fe-e16c9f8d511f",
   "metadata": {},
   "source": [
    "## Read BigQuery Dataset into Pandas Dataframe"
   ]
  },
  {
   "cell_type": "code",
   "execution_count": 12,
   "id": "67cfaa12-5ad8-4441-96f8-76c52d1622fa",
   "metadata": {},
   "outputs": [
    {
     "data": {
      "text/html": [
       "<div>\n",
       "<style scoped>\n",
       "    .dataframe tbody tr th:only-of-type {\n",
       "        vertical-align: middle;\n",
       "    }\n",
       "\n",
       "    .dataframe tbody tr th {\n",
       "        vertical-align: top;\n",
       "    }\n",
       "\n",
       "    .dataframe thead th {\n",
       "        text-align: right;\n",
       "    }\n",
       "</style>\n",
       "<table border=\"1\" class=\"dataframe\">\n",
       "  <thead>\n",
       "    <tr style=\"text-align: right;\">\n",
       "      <th></th>\n",
       "      <th>step</th>\n",
       "      <th>type</th>\n",
       "      <th>amount</th>\n",
       "      <th>nameOrig</th>\n",
       "      <th>oldBalanceOrg</th>\n",
       "      <th>newBalanceOrig</th>\n",
       "      <th>nameDest</th>\n",
       "      <th>oldBalanceDest</th>\n",
       "      <th>newBalanceDest</th>\n",
       "      <th>isFraud</th>\n",
       "      <th>isFlaggedFraud</th>\n",
       "    </tr>\n",
       "  </thead>\n",
       "  <tbody>\n",
       "    <tr>\n",
       "      <th>0</th>\n",
       "      <td>240</td>\n",
       "      <td>DEBIT</td>\n",
       "      <td>2842.07</td>\n",
       "      <td>C141777493</td>\n",
       "      <td>9060.00</td>\n",
       "      <td>6217.93</td>\n",
       "      <td>C513800001</td>\n",
       "      <td>310046.05</td>\n",
       "      <td>312888.13</td>\n",
       "      <td>False</td>\n",
       "      <td>False</td>\n",
       "    </tr>\n",
       "    <tr>\n",
       "      <th>1</th>\n",
       "      <td>249</td>\n",
       "      <td>DEBIT</td>\n",
       "      <td>4722.51</td>\n",
       "      <td>C415692913</td>\n",
       "      <td>107.00</td>\n",
       "      <td>0.00</td>\n",
       "      <td>C2037011511</td>\n",
       "      <td>4607608.95</td>\n",
       "      <td>4612331.46</td>\n",
       "      <td>False</td>\n",
       "      <td>False</td>\n",
       "    </tr>\n",
       "    <tr>\n",
       "      <th>2</th>\n",
       "      <td>256</td>\n",
       "      <td>DEBIT</td>\n",
       "      <td>1564.55</td>\n",
       "      <td>C2116094677</td>\n",
       "      <td>74492.48</td>\n",
       "      <td>72927.93</td>\n",
       "      <td>C1598593494</td>\n",
       "      <td>2013322.78</td>\n",
       "      <td>2014887.33</td>\n",
       "      <td>False</td>\n",
       "      <td>False</td>\n",
       "    </tr>\n",
       "    <tr>\n",
       "      <th>3</th>\n",
       "      <td>257</td>\n",
       "      <td>DEBIT</td>\n",
       "      <td>278.21</td>\n",
       "      <td>C119580499</td>\n",
       "      <td>1560.00</td>\n",
       "      <td>1281.79</td>\n",
       "      <td>C1326491470</td>\n",
       "      <td>215080.18</td>\n",
       "      <td>215358.40</td>\n",
       "      <td>False</td>\n",
       "      <td>False</td>\n",
       "    </tr>\n",
       "    <tr>\n",
       "      <th>4</th>\n",
       "      <td>258</td>\n",
       "      <td>DEBIT</td>\n",
       "      <td>4407.59</td>\n",
       "      <td>C680182887</td>\n",
       "      <td>90888.00</td>\n",
       "      <td>86480.41</td>\n",
       "      <td>C1357984916</td>\n",
       "      <td>12537256.12</td>\n",
       "      <td>12541663.71</td>\n",
       "      <td>False</td>\n",
       "      <td>False</td>\n",
       "    </tr>\n",
       "  </tbody>\n",
       "</table>\n",
       "</div>"
      ],
      "text/plain": [
       "   step   type   amount     nameOrig  oldBalanceOrg  newBalanceOrig  \\\n",
       "0   240  DEBIT  2842.07   C141777493        9060.00         6217.93   \n",
       "1   249  DEBIT  4722.51   C415692913         107.00            0.00   \n",
       "2   256  DEBIT  1564.55  C2116094677       74492.48        72927.93   \n",
       "3   257  DEBIT   278.21   C119580499        1560.00         1281.79   \n",
       "4   258  DEBIT  4407.59   C680182887       90888.00        86480.41   \n",
       "\n",
       "      nameDest  oldBalanceDest  newBalanceDest  isFraud  isFlaggedFraud  \n",
       "0   C513800001       310046.05       312888.13    False           False  \n",
       "1  C2037011511      4607608.95      4612331.46    False           False  \n",
       "2  C1598593494      2013322.78      2014887.33    False           False  \n",
       "3  C1326491470       215080.18       215358.40    False           False  \n",
       "4  C1357984916     12537256.12     12541663.71    False           False  "
      ]
     },
     "execution_count": 12,
     "metadata": {},
     "output_type": "execute_result"
    }
   ],
   "source": [
    "# Download a table.\n",
    "table = bigquery.TableReference.from_string(BQ_TABLE)\n",
    "\n",
    "rows = bqclient.list_rows(table, max_results=300000)\n",
    "\n",
    "dataframe = rows.to_dataframe()\n",
    "dataframe.head()"
   ]
  },
  {
   "cell_type": "markdown",
   "id": "b37ea488-84e5-4753-af3f-1876f08c069f",
   "metadata": {},
   "source": [
    "# Generate Dataset Statistics with Tensorflow Data Validation"
   ]
  },
  {
   "cell_type": "code",
   "execution_count": 16,
   "id": "ba798bf8-0075-4875-a1c7-e35232161818",
   "metadata": {},
   "outputs": [],
   "source": [
    "stats = tfdv.generate_statistics_from_dataframe(\n",
    "    dataframe=dataframe,\n",
    "    stats_options=tfdv.StatsOptions(\n",
    "        label_feature=\"tip_bin\", sample_rate=1, num_top_values=50\n",
    "    ),\n",
    ")"
   ]
  },
  {
   "cell_type": "markdown",
   "id": "14269549-22b5-4834-92b2-a61a409c7796",
   "metadata": {},
   "source": [
    "## Visualize Dataset Statistics"
   ]
  },
  {
   "cell_type": "code",
   "execution_count": 17,
   "id": "41aece71-0fb6-4011-90d8-58b544ec1065",
   "metadata": {},
   "outputs": [
    {
     "data": {
      "text/html": [
       "<iframe id='facets-iframe' width=\"100%\" height=\"500px\"></iframe>\n",
       "        <script>\n",
       "        facets_iframe = document.getElementById('facets-iframe');\n",
       "        facets_html = '<script src=\"https://cdnjs.cloudflare.com/ajax/libs/webcomponentsjs/1.3.3/webcomponents-lite.js\"><\\/script><link rel=\"import\" href=\"https://raw.githubusercontent.com/PAIR-code/facets/master/facets-dist/facets-jupyter.html\"><facets-overview proto-input=\"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\"></facets-overview>';\n",
       "        facets_iframe.srcdoc = facets_html;\n",
       "         facets_iframe.id = \"\";\n",
       "         setTimeout(() => {\n",
       "           facets_iframe.setAttribute('height', facets_iframe.contentWindow.document.body.offsetHeight + 'px')\n",
       "         }, 1500)\n",
       "         </script>"
      ],
      "text/plain": [
       "<IPython.core.display.HTML object>"
      ]
     },
     "metadata": {},
     "output_type": "display_data"
    }
   ],
   "source": [
    "tfdv.visualize_statistics(stats)"
   ]
  }
 ],
 "metadata": {
  "kernelspec": {
   "display_name": "Python (Local)",
   "language": "python",
   "name": "local-base"
  },
  "language_info": {
   "codemirror_mode": {
    "name": "ipython",
    "version": 3
   },
   "file_extension": ".py",
   "mimetype": "text/x-python",
   "name": "python",
   "nbconvert_exporter": "python",
   "pygments_lexer": "ipython3",
   "version": "3.7.12"
  }
 },
 "nbformat": 4,
 "nbformat_minor": 5
}
