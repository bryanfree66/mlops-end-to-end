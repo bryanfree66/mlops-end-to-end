{
 "cells": [
  {
   "cell_type": "markdown",
   "id": "cbcca3e9-9db8-4400-b5ab-5807bbf16f41",
   "metadata": {},
   "source": [
    "# MLOps stage 1 : data management"
   ]
  },
  {
   "cell_type": "markdown",
   "id": "36a7b82c-4c7f-45b5-82d1-a9b51cd74e8b",
   "metadata": {},
   "source": [
    "## Overview"
   ]
  },
  {
   "cell_type": "markdown",
   "id": "87ee2795-289b-4abd-b2f8-88c2dafb7553",
   "metadata": {},
   "source": [
    "This tutorial demonstrates how to use Vertex AI for E2E MLOps on Google Cloud in production"
   ]
  },
  {
   "cell_type": "markdown",
   "id": "dfc55993-8da7-43dc-96a3-095039f47a29",
   "metadata": {},
   "source": [
    "## Objective"
   ]
  },
  {
   "cell_type": "markdown",
   "id": "5d692eab-1755-4646-a652-db364025f662",
   "metadata": {},
   "source": [
    "In this tutorial, you learn how to use BigQuery as a dataset for training with Vertex AI.\n",
    "\n",
    "This tutorial uses the following Google Cloud ML services:\n",
    "- Vertex AI Datasets\n",
    "- BigQuery Datasets\n",
    "\n",
    "The steps performed include:\n",
    "- Create a BigQuery dataset from CSV files.\n",
    "- Create a Vertex AI Dataset resource from BigQuery table\n",
    "- Select rows from a BigQuery dataset into a pandas dataframe -- compatible for custom training."
   ]
  },
  {
   "cell_type": "markdown",
   "id": "3b80ac0a-1952-4f05-bebb-a8d57c2d2c04",
   "metadata": {},
   "source": [
    "## Dataset"
   ]
  },
  {
   "cell_type": "markdown",
   "id": "56dd4f82-434d-4f01-a1ca-bd6f5d9331d8",
   "metadata": {},
   "source": [
    "The dataset used in this example is the [Synthetic Financial Fraud dataset from Kaggle](https://www.kaggle.com/datasets/ealaxi/paysim1). PaySim simulates mobile money transactions based on a sample of real transactions extracted from one month of financial logs from a mobile money service implemented in an African country. The original logs were provided by a multinational company, who is the provider of the mobile financial service which is currently running in more than 14 countries all around the world."
   ]
  },
  {
   "cell_type": "markdown",
   "id": "336afbf7-8885-4438-bd34-74abc80bedb3",
   "metadata": {},
   "source": [
    "### Installations"
   ]
  },
  {
   "cell_type": "code",
   "execution_count": 3,
   "id": "4e6578da-1873-4029-b6a1-d0db58eef0ef",
   "metadata": {},
   "outputs": [
    {
     "name": "stdout",
     "output_type": "stream",
     "text": [
      "\u001b[33m  WARNING: The script tb-gcp-uploader is installed in '/home/jupyter/.local/bin' which is not on PATH.\n",
      "  Consider adding this directory to PATH or, if you prefer to suppress this warning, use --no-warn-script-location.\u001b[0m\u001b[33m\n",
      "\u001b[0m"
     ]
    }
   ],
   "source": [
    "import os\n",
    "\n",
    "# The Vertex AI Workbench Notebook product has specific requirements\n",
    "IS_WORKBENCH_NOTEBOOK = os.getenv(\"DL_ANACONDA_HOME\") and not os.getenv(\"VIRTUAL_ENV\")\n",
    "IS_USER_MANAGED_WORKBENCH_NOTEBOOK = os.path.exists(\n",
    "    \"/opt/deeplearning/metadata/env_version\"\n",
    ")\n",
    "\n",
    "# Vertex AI Notebook requires dependencies to be installed with '--user'\n",
    "USER_FLAG = \"\"\n",
    "if IS_WORKBENCH_NOTEBOOK:\n",
    "    USER_FLAG = \"--user\"\n",
    "\n",
    "extra_pkgs = \"google-cloud-bigquery\"\n",
    "! pip3 install --upgrade --quiet {USER_FLAG} google-cloud-aiplatform $extra_pkgs"
   ]
  },
  {
   "cell_type": "code",
   "execution_count": 4,
   "id": "1bab6098-40a2-4575-82fe-367fddaf787a",
   "metadata": {},
   "outputs": [],
   "source": [
    "# Restart the kernel\n",
    "import os\n",
    "\n",
    "if not os.getenv(\"IS_TESTING\"):\n",
    "    # Automatically restart kernel after installs\n",
    "    import IPython\n",
    "\n",
    "    app = IPython.Application.instance()\n",
    "    app.kernel.do_shutdown(True)"
   ]
  },
  {
   "cell_type": "markdown",
   "id": "663f6fd5-3c7f-45a2-833b-1f64d00ec7fb",
   "metadata": {},
   "source": [
    "## Import Libraries and Define Constants"
   ]
  },
  {
   "cell_type": "code",
   "execution_count": 1,
   "id": "40bf3c1f-561f-4031-a533-00b469ed603c",
   "metadata": {},
   "outputs": [],
   "source": [
    "import google.cloud.aiplatform as aiplatform\n",
    "import pandas as pd\n",
    "from google.cloud import bigquery"
   ]
  },
  {
   "cell_type": "code",
   "execution_count": null,
   "id": "7f6ca5fd-259a-4577-bd2b-87229cf3fbb0",
   "metadata": {},
   "outputs": [],
   "source": [
    "REGION='us-central1'"
   ]
  },
  {
   "cell_type": "markdown",
   "id": "92ed0281-e52a-4990-945b-7c70ea85d3cf",
   "metadata": {},
   "source": [
    "## Initialize Vertex AI SDK for Python"
   ]
  },
  {
   "cell_type": "code",
   "execution_count": null,
   "id": "56661f31-232c-4205-bd34-82dbbfbdee33",
   "metadata": {},
   "outputs": [],
   "source": [
    "aiplatform.init(project=PROJECT_ID, location=REGION)"
   ]
  }
 ],
 "metadata": {
  "kernelspec": {
   "display_name": "Python (Local)",
   "language": "python",
   "name": "local-base"
  },
  "language_info": {
   "codemirror_mode": {
    "name": "ipython",
    "version": 3
   },
   "file_extension": ".py",
   "mimetype": "text/x-python",
   "name": "python",
   "nbconvert_exporter": "python",
   "pygments_lexer": "ipython3",
   "version": "3.7.12"
  }
 },
 "nbformat": 4,
 "nbformat_minor": 5
}
