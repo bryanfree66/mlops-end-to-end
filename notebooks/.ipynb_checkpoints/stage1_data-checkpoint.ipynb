{
 "cells": [
  {
   "cell_type": "markdown",
   "id": "cbcca3e9-9db8-4400-b5ab-5807bbf16f41",
   "metadata": {},
   "source": [
    "# MLOps stage 1 : data management"
   ]
  },
  {
   "cell_type": "markdown",
   "id": "36a7b82c-4c7f-45b5-82d1-a9b51cd74e8b",
   "metadata": {},
   "source": [
    "## Overview"
   ]
  },
  {
   "cell_type": "markdown",
   "id": "87ee2795-289b-4abd-b2f8-88c2dafb7553",
   "metadata": {},
   "source": [
    "This tutorial demonstrates how to use Vertex AI for E2E MLOps on Google Cloud in production"
   ]
  },
  {
   "cell_type": "markdown",
   "id": "dfc55993-8da7-43dc-96a3-095039f47a29",
   "metadata": {},
   "source": [
    "## Objective"
   ]
  },
  {
   "cell_type": "markdown",
   "id": "5d692eab-1755-4646-a652-db364025f662",
   "metadata": {},
   "source": [
    "In this tutorial, you learn how to use BigQuery as a dataset for training with Vertex AI.\n",
    "\n",
    "This tutorial uses the following Google Cloud ML services:\n",
    "- Vertex AI Datasets\n",
    "- BigQuery Datasets\n",
    "\n",
    "The steps performed include:\n",
    "- Create a BigQuery dataset from CSV files.\n",
    "- Create a Vertex AI Dataset resource from BigQuery table\n",
    "- Select rows from a BigQuery dataset into a pandas dataframe -- compatible for custom training."
   ]
  },
  {
   "cell_type": "markdown",
   "id": "3b80ac0a-1952-4f05-bebb-a8d57c2d2c04",
   "metadata": {},
   "source": [
    "## Dataset"
   ]
  },
  {
   "cell_type": "markdown",
   "id": "56dd4f82-434d-4f01-a1ca-bd6f5d9331d8",
   "metadata": {},
   "source": [
    "The dataset used in this example is the [Synthetic Financial Fraud dataset from Kaggle](https://www.kaggle.com/datasets/ealaxi/paysim1). PaySim simulates mobile money transactions based on a sample of real transactions extracted from one month of financial logs from a mobile money service implemented in an African country. The original logs were provided by a multinational company, who is the provider of the mobile financial service which is currently running in more than 14 countries all around the world."
   ]
  },
  {
   "cell_type": "markdown",
   "id": "336afbf7-8885-4438-bd34-74abc80bedb3",
   "metadata": {},
   "source": [
    "### Installations"
   ]
  },
  {
   "cell_type": "code",
   "execution_count": 20,
   "id": "4e6578da-1873-4029-b6a1-d0db58eef0ef",
   "metadata": {},
   "outputs": [],
   "source": [
    "import os\n",
    "\n",
    "# The Vertex AI Workbench Notebook product has specific requirements\n",
    "IS_WORKBENCH_NOTEBOOK = os.getenv(\"DL_ANACONDA_HOME\") and not os.getenv(\"VIRTUAL_ENV\")\n",
    "IS_USER_MANAGED_WORKBENCH_NOTEBOOK = os.path.exists(\n",
    "    \"/opt/deeplearning/metadata/env_version\"\n",
    ")\n",
    "\n",
    "# Vertex AI Notebook requires dependencies to be installed with '--user'\n",
    "USER_FLAG = \"\"\n",
    "if IS_WORKBENCH_NOTEBOOK:\n",
    "    USER_FLAG = \"--user\"\n",
    "\n",
    "extra_pkgs = \"google-cloud-bigquery\"\n",
    "! pip3 install --upgrade --quiet {USER_FLAG} google-cloud-aiplatform $extra_pkgs"
   ]
  },
  {
   "cell_type": "code",
   "execution_count": 21,
   "id": "1bab6098-40a2-4575-82fe-367fddaf787a",
   "metadata": {},
   "outputs": [],
   "source": [
    "# Restart the kernel\n",
    "import os\n",
    "\n",
    "if not os.getenv(\"IS_TESTING\"):\n",
    "    # Automatically restart kernel after installs\n",
    "    import IPython\n",
    "\n",
    "    app = IPython.Application.instance()\n",
    "    app.kernel.do_shutdown(True)"
   ]
  },
  {
   "cell_type": "markdown",
   "id": "663f6fd5-3c7f-45a2-833b-1f64d00ec7fb",
   "metadata": {},
   "source": [
    "## Import Libraries and Define Constants"
   ]
  },
  {
   "cell_type": "code",
   "execution_count": 1,
   "id": "40bf3c1f-561f-4031-a533-00b469ed603c",
   "metadata": {},
   "outputs": [],
   "source": [
    "import google.cloud.aiplatform as aiplatform\n",
    "import pandas as pd\n",
    "from google.cloud import bigquery"
   ]
  },
  {
   "cell_type": "code",
   "execution_count": 2,
   "id": "7f6ca5fd-259a-4577-bd2b-87229cf3fbb0",
   "metadata": {},
   "outputs": [],
   "source": [
    "REGION='us-central1'\n",
    "PROJECT_ID='bq-experiments-350102'"
   ]
  },
  {
   "cell_type": "markdown",
   "id": "92ed0281-e52a-4990-945b-7c70ea85d3cf",
   "metadata": {},
   "source": [
    "## Initialize Vertex AI SDK for Python"
   ]
  },
  {
   "cell_type": "code",
   "execution_count": 3,
   "id": "56661f31-232c-4205-bd34-82dbbfbdee33",
   "metadata": {},
   "outputs": [],
   "source": [
    "aiplatform.init(project=PROJECT_ID, location=REGION)"
   ]
  },
  {
   "cell_type": "markdown",
   "id": "be872ec1-aaa1-4c34-9dbb-fe590c97bb1f",
   "metadata": {},
   "source": [
    "## Data Dictionary"
   ]
  },
  {
   "cell_type": "markdown",
   "id": "6d59d7c3-0df4-45fb-aeb7-1dc2e6e529df",
   "metadata": {},
   "source": [
    "**step**: **int**: 1-743:  Maps a unit of time in the real world. In this case 1 step is 1 hour of time. <br>\n",
    "**type**: **enum**: CASH-IN, CASH-OUT, DEBIT, PAYMENT and TRANSFER <br>\n",
    "**amount**: **decimal**: 0-92.4m: amount of the transaction in local currency. <br>\n",
    "**nameOrig**: **string**: 6353307 unique values: customer who started the transaction. <br>\n",
    "**oldBalanceOrg**: **decimal**: 0-59.6m: initial balance before the transaction. <br>\n",
    "**newBalanceOrig**: **decimal**: 0-49.6m: customer's balance after the transaction. <br>\n",
    "**nameDest**: **string**: 2722326 unique values: recipient ID of the transaction. <br>\n",
    "**oldBalanceDest**: **decimal**: 0-356m: initial recipient balance before the transaction. <br>\n",
    "**newBalanceDest**: **decimal**: 0-356m: recipient's balance after the transaction. <br>\n",
    "**isFraud**: **boolean**: 0-1: identifies a fraudulent transaction (1) and non fraudulent (0)<br>"
   ]
  },
  {
   "cell_type": "markdown",
   "id": "454286af-0c79-4ad8-a7ae-a157506f8dcb",
   "metadata": {},
   "source": [
    "## Create BigQuery Client"
   ]
  },
  {
   "cell_type": "code",
   "execution_count": 4,
   "id": "c73a30c9-20dc-4a2c-b41b-b574aff439a1",
   "metadata": {},
   "outputs": [],
   "source": [
    "bqclient = bigquery.Client(project=PROJECT_ID)"
   ]
  },
  {
   "cell_type": "markdown",
   "id": "19c1c60a-becd-48cc-9b5b-4203533f1dc2",
   "metadata": {},
   "source": [
    "## Create Dataset"
   ]
  },
  {
   "cell_type": "code",
   "execution_count": 5,
   "id": "19e09413-74b0-477d-a7b4-1061cd8990c0",
   "metadata": {},
   "outputs": [
    {
     "name": "stdout",
     "output_type": "stream",
     "text": [
      "Created dataset bq-experiments-350102.synthetic_financial_fraud\n"
     ]
    }
   ],
   "source": [
    "dataset_id = \"bq-experiments-350102.synthetic_financial_fraud\"\n",
    "dataset = bigquery.Dataset(dataset_id)\n",
    "\n",
    "dataset.location = \"US\"\n",
    "\n",
    "# Send the dataset to the API for creation, with an explicit timeout.\n",
    "# Raises google.api_core.exceptions.Conflict if the Dataset already\n",
    "# exists within the project.\n",
    "dataset = bqclient.create_dataset(dataset, timeout=30)  # Make an API request.\n",
    "print(\"Created dataset {}.{}\".format(bqclient.project, dataset.dataset_id))"
   ]
  },
  {
   "cell_type": "markdown",
   "id": "f5f291f8-c1da-484c-9a4e-8b31153f9da2",
   "metadata": {},
   "source": [
    "## Create BiqQuery Load Job"
   ]
  },
  {
   "cell_type": "code",
   "execution_count": 25,
   "id": "5a049dbd-490c-4171-af0f-fa4c7afe4455",
   "metadata": {},
   "outputs": [
    {
     "name": "stdout",
     "output_type": "stream",
     "text": [
      "Loaded 6362620 rows to table bq-experiments-350102.synthetic_financial_fraud.transaction_data\n"
     ]
    }
   ],
   "source": [
    "table_id = \"bq-experiments-350102.synthetic_financial_fraud.transaction_data\"\n",
    "\n",
    "job_config = bigquery.LoadJobConfig(\n",
    "    schema=[\n",
    "        bigquery.SchemaField(\"step\", \"INT64\", mode=\"REQUIRED\"),\n",
    "        bigquery.SchemaField(\"type\", \"STRING\", mode=\"REQUIRED\"),\n",
    "        bigquery.SchemaField(\"amount\", \"NUMERIC\", mode=\"REQUIRED\"),\n",
    "        bigquery.SchemaField(\"nameOrig\", \"STRING\", mode=\"REQUIRED\"),\n",
    "        bigquery.SchemaField(\"oldBalanceOrg\", \"NUMERIC\", mode=\"REQUIRED\"),\n",
    "        bigquery.SchemaField(\"newBalanceOrig\", \"NUMERIC\", mode=\"REQUIRED\"),\n",
    "        bigquery.SchemaField(\"nameDest\", \"STRING\", mode=\"REQUIRED\"),\n",
    "        bigquery.SchemaField(\"oldBalanceDest\", \"NUMERIC\", mode=\"REQUIRED\"),\n",
    "        bigquery.SchemaField(\"newBalanceDest\", \"NUMERIC\", mode=\"REQUIRED\"),\n",
    "        bigquery.SchemaField(\"isFraud\", \"BOOL\", mode=\"REQUIRED\"),\n",
    "        bigquery.SchemaField(\"isFlaggedFraud\", \"BOOL\", mode=\"REQUIRED\"),\n",
    "    ],\n",
    "    skip_leading_rows=1,\n",
    ")\n",
    "uri = \"gs://bq-experiments-fraud/synthetic-fraud.csv\"\n",
    "\n",
    "load_job = bqclient.load_table_from_uri(\n",
    "    uri, table_id, job_config=job_config\n",
    ")  # Make an API request.\n",
    "\n",
    "load_job.result()  # Wait for the job to complete.\n",
    "\n",
    "table = bqclient.get_table(table_id)\n",
    "print(\"Loaded {} rows to table {}\".format(table.num_rows, table_id))"
   ]
  },
  {
   "cell_type": "markdown",
   "id": "d8811422-3835-446b-b284-f4a5bddf96da",
   "metadata": {},
   "source": [
    "## Select Sample into Pandas Dataframe"
   ]
  },
  {
   "cell_type": "code",
   "execution_count": 33,
   "id": "b7302d35-9974-40b3-9fbd-c58124e2a333",
   "metadata": {},
   "outputs": [],
   "source": [
    "sql = \"\"\"\n",
    "    SELECT step,\n",
    "        type, \n",
    "        amount,\n",
    "        nameOrig,\n",
    "        oldBalanceOrg,\n",
    "        newBalanceOrig,\n",
    "        nameDest,\n",
    "        oldBalanceDest,\n",
    "        newBalanceDest,\n",
    "        isFraud,\n",
    "        isFlaggedFraud\n",
    "    FROM `bq-experiments-350102.synthetic_financial_fraud.transaction_data`\n",
    "    LIMIT 500\n",
    "\"\"\"\n",
    "\n",
    "df = bqclient.query(sql).to_dataframe()"
   ]
  },
  {
   "cell_type": "code",
   "execution_count": 34,
   "id": "31a1d4de-325b-49d6-ab7d-6044790a0890",
   "metadata": {},
   "outputs": [
    {
     "data": {
      "text/html": [
       "<div>\n",
       "<style scoped>\n",
       "    .dataframe tbody tr th:only-of-type {\n",
       "        vertical-align: middle;\n",
       "    }\n",
       "\n",
       "    .dataframe tbody tr th {\n",
       "        vertical-align: top;\n",
       "    }\n",
       "\n",
       "    .dataframe thead th {\n",
       "        text-align: right;\n",
       "    }\n",
       "</style>\n",
       "<table border=\"1\" class=\"dataframe\">\n",
       "  <thead>\n",
       "    <tr style=\"text-align: right;\">\n",
       "      <th></th>\n",
       "      <th>step</th>\n",
       "      <th>type</th>\n",
       "      <th>amount</th>\n",
       "      <th>nameOrig</th>\n",
       "      <th>oldBalanceOrg</th>\n",
       "      <th>newBalanceOrig</th>\n",
       "      <th>nameDest</th>\n",
       "      <th>oldBalanceDest</th>\n",
       "      <th>newBalanceDest</th>\n",
       "      <th>isFraud</th>\n",
       "      <th>isFlaggedFraud</th>\n",
       "    </tr>\n",
       "  </thead>\n",
       "  <tbody>\n",
       "    <tr>\n",
       "      <th>0</th>\n",
       "      <td>256</td>\n",
       "      <td>DEBIT</td>\n",
       "      <td>19205.090000000</td>\n",
       "      <td>C910694199</td>\n",
       "      <td>30764.000000000</td>\n",
       "      <td>11558.910000000</td>\n",
       "      <td>C1122143037</td>\n",
       "      <td>1226937.810000000</td>\n",
       "      <td>1246142.900000000</td>\n",
       "      <td>False</td>\n",
       "      <td>False</td>\n",
       "    </tr>\n",
       "    <tr>\n",
       "      <th>1</th>\n",
       "      <td>256</td>\n",
       "      <td>DEBIT</td>\n",
       "      <td>42069.650000000</td>\n",
       "      <td>C970826484</td>\n",
       "      <td>3711.000000000</td>\n",
       "      <td>0E-9</td>\n",
       "      <td>C656082643</td>\n",
       "      <td>186945.200000000</td>\n",
       "      <td>229014.850000000</td>\n",
       "      <td>False</td>\n",
       "      <td>False</td>\n",
       "    </tr>\n",
       "    <tr>\n",
       "      <th>2</th>\n",
       "      <td>256</td>\n",
       "      <td>DEBIT</td>\n",
       "      <td>7005.400000000</td>\n",
       "      <td>C1869426134</td>\n",
       "      <td>28873.000000000</td>\n",
       "      <td>21867.600000000</td>\n",
       "      <td>C127935509</td>\n",
       "      <td>468089.060000000</td>\n",
       "      <td>475094.460000000</td>\n",
       "      <td>False</td>\n",
       "      <td>False</td>\n",
       "    </tr>\n",
       "    <tr>\n",
       "      <th>3</th>\n",
       "      <td>256</td>\n",
       "      <td>DEBIT</td>\n",
       "      <td>2322.550000000</td>\n",
       "      <td>C1069413307</td>\n",
       "      <td>0E-9</td>\n",
       "      <td>0E-9</td>\n",
       "      <td>C270606763</td>\n",
       "      <td>15351.280000000</td>\n",
       "      <td>17673.820000000</td>\n",
       "      <td>False</td>\n",
       "      <td>False</td>\n",
       "    </tr>\n",
       "    <tr>\n",
       "      <th>4</th>\n",
       "      <td>256</td>\n",
       "      <td>DEBIT</td>\n",
       "      <td>7749.440000000</td>\n",
       "      <td>C130400499</td>\n",
       "      <td>0E-9</td>\n",
       "      <td>0E-9</td>\n",
       "      <td>C679496887</td>\n",
       "      <td>731189.250000000</td>\n",
       "      <td>738938.690000000</td>\n",
       "      <td>False</td>\n",
       "      <td>False</td>\n",
       "    </tr>\n",
       "  </tbody>\n",
       "</table>\n",
       "</div>"
      ],
      "text/plain": [
       "   step   type           amount     nameOrig    oldBalanceOrg  \\\n",
       "0   256  DEBIT  19205.090000000   C910694199  30764.000000000   \n",
       "1   256  DEBIT  42069.650000000   C970826484   3711.000000000   \n",
       "2   256  DEBIT   7005.400000000  C1869426134  28873.000000000   \n",
       "3   256  DEBIT   2322.550000000  C1069413307             0E-9   \n",
       "4   256  DEBIT   7749.440000000   C130400499             0E-9   \n",
       "\n",
       "    newBalanceOrig     nameDest     oldBalanceDest     newBalanceDest  \\\n",
       "0  11558.910000000  C1122143037  1226937.810000000  1246142.900000000   \n",
       "1             0E-9   C656082643   186945.200000000   229014.850000000   \n",
       "2  21867.600000000   C127935509   468089.060000000   475094.460000000   \n",
       "3             0E-9   C270606763    15351.280000000    17673.820000000   \n",
       "4             0E-9   C679496887   731189.250000000   738938.690000000   \n",
       "\n",
       "   isFraud  isFlaggedFraud  \n",
       "0    False           False  \n",
       "1    False           False  \n",
       "2    False           False  \n",
       "3    False           False  \n",
       "4    False           False  "
      ]
     },
     "execution_count": 34,
     "metadata": {},
     "output_type": "execute_result"
    }
   ],
   "source": [
    "df.head()"
   ]
  },
  {
   "cell_type": "code",
   "execution_count": null,
   "id": "c41e1fc3-1b0f-4480-8513-c36fca9b8c41",
   "metadata": {},
   "outputs": [],
   "source": []
  }
 ],
 "metadata": {
  "kernelspec": {
   "display_name": "Python (Local)",
   "language": "python",
   "name": "local-base"
  },
  "language_info": {
   "codemirror_mode": {
    "name": "ipython",
    "version": 3
   },
   "file_extension": ".py",
   "mimetype": "text/x-python",
   "name": "python",
   "nbconvert_exporter": "python",
   "pygments_lexer": "ipython3",
   "version": "3.7.12"
  }
 },
 "nbformat": 4,
 "nbformat_minor": 5
}
