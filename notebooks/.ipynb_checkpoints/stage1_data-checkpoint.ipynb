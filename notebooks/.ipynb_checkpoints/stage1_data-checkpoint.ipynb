{
 "cells": [
  {
   "cell_type": "markdown",
   "id": "cbcca3e9-9db8-4400-b5ab-5807bbf16f41",
   "metadata": {},
   "source": [
    "# MLOps stage 1 : Data Management and Exploration"
   ]
  },
  {
   "cell_type": "markdown",
   "id": "36a7b82c-4c7f-45b5-82d1-a9b51cd74e8b",
   "metadata": {},
   "source": [
    "## Overview"
   ]
  },
  {
   "cell_type": "markdown",
   "id": "87ee2795-289b-4abd-b2f8-88c2dafb7553",
   "metadata": {},
   "source": [
    "This tutorial demonstrates how to use Vertex AI for E2E MLOps on Google Cloud in production"
   ]
  },
  {
   "cell_type": "markdown",
   "id": "dfc55993-8da7-43dc-96a3-095039f47a29",
   "metadata": {},
   "source": [
    "## Objective"
   ]
  },
  {
   "cell_type": "markdown",
   "id": "5d692eab-1755-4646-a652-db364025f662",
   "metadata": {},
   "source": [
    "In this tutorial, you learn how to use BigQuery as a dataset for training with Vertex AI.\n",
    "\n",
    "This tutorial uses the following Google Cloud ML services:\n",
    "- Vertex AI Datasets\n",
    "- BigQuery Datasets\n",
    "\n",
    "The steps performed include:\n",
    "- Create a BigQuery dataset from CSV files.\n",
    "- Create a Vertex AI Dataset resource from BigQuery table\n",
    "- Select rows from a BigQuery dataset into a pandas dataframe -- compatible for custom training."
   ]
  },
  {
   "cell_type": "markdown",
   "id": "3b80ac0a-1952-4f05-bebb-a8d57c2d2c04",
   "metadata": {},
   "source": [
    "## Dataset"
   ]
  },
  {
   "cell_type": "markdown",
   "id": "56dd4f82-434d-4f01-a1ca-bd6f5d9331d8",
   "metadata": {},
   "source": [
    "The dataset used in this example is the [Synthetic Financial Fraud dataset from Kaggle](https://www.kaggle.com/datasets/ealaxi/paysim1). PaySim simulates mobile money transactions based on a sample of real transactions extracted from one month of financial logs from a mobile money service implemented in an African country. The original logs were provided by a multinational company, who is the provider of the mobile financial service which is currently running in more than 14 countries all around the world."
   ]
  },
  {
   "cell_type": "markdown",
   "id": "336afbf7-8885-4438-bd34-74abc80bedb3",
   "metadata": {},
   "source": [
    "### Installations"
   ]
  },
  {
   "cell_type": "code",
   "execution_count": 1,
   "id": "4e6578da-1873-4029-b6a1-d0db58eef0ef",
   "metadata": {},
   "outputs": [],
   "source": [
    "import os\n",
    "\n",
    "# The Vertex AI Workbench Notebook product has specific requirements\n",
    "IS_WORKBENCH_NOTEBOOK = os.getenv(\"DL_ANACONDA_HOME\") and not os.getenv(\"VIRTUAL_ENV\")\n",
    "IS_USER_MANAGED_WORKBENCH_NOTEBOOK = os.path.exists(\n",
    "    \"/opt/deeplearning/metadata/env_version\"\n",
    ")\n",
    "\n",
    "# Vertex AI Notebook requires dependencies to be installed with '--user'\n",
    "USER_FLAG = \"\"\n",
    "if IS_WORKBENCH_NOTEBOOK:\n",
    "    USER_FLAG = \"--user\"\n",
    "\n",
    "ONCE_ONLY = False\n",
    "if ONCE_ONLY:\n",
    "    ! pip3 install -U {USER_FLAG} -q tensorflow==2.5 \\\n",
    "                                     tensorflow-data-validation==1.2 \\\n",
    "                                     tensorflow-transform==1.2 \\\n",
    "                                     tensorflow-io==0.18 \n",
    "    \n",
    "    ! pip3 install --upgrade {USER_FLAG} -q google-cloud-aiplatform[tensorboard] \\\n",
    "                                            google-cloud-pipeline-components \\\n",
    "                                            google-cloud-bigquery \\\n",
    "                                            google-cloud-logging \\\n",
    "                                            apache-beam[gcp] \\\n",
    "                                            pyarrow \\\n",
    "                                            cloudml-hypertune"
   ]
  },
  {
   "cell_type": "code",
   "execution_count": 4,
   "id": "1bab6098-40a2-4575-82fe-367fddaf787a",
   "metadata": {},
   "outputs": [],
   "source": [
    "# Restart the kernel\n",
    "import os\n",
    "\n",
    "if not os.getenv(\"IS_TESTING\"):\n",
    "    # Automatically restart kernel after installs\n",
    "    import IPython\n",
    "\n",
    "    app = IPython.Application.instance()\n",
    "    app.kernel.do_shutdown(True)"
   ]
  },
  {
   "cell_type": "markdown",
   "id": "663f6fd5-3c7f-45a2-833b-1f64d00ec7fb",
   "metadata": {},
   "source": [
    "## Import Libraries and Define Constants"
   ]
  },
  {
   "cell_type": "code",
   "execution_count": null,
   "id": "40bf3c1f-561f-4031-a533-00b469ed603c",
   "metadata": {},
   "outputs": [],
   "source": [
    "import google.cloud.aiplatform as aip\n",
    "import tensorflow as tf\n",
    "import tensorflow_data_validation as tfdv\n",
    "import pandas as pd\n",
    "from google.cloud import bigquery"
   ]
  },
  {
   "cell_type": "code",
   "execution_count": 3,
   "id": "7f6ca5fd-259a-4577-bd2b-87229cf3fbb0",
   "metadata": {},
   "outputs": [],
   "source": [
    "REGION='us-central1'\n",
    "PROJECT_ID='bq-experiments-350102'"
   ]
  },
  {
   "cell_type": "code",
   "execution_count": 4,
   "id": "c3674380-a789-4050-98c4-afe1e8e4ccf6",
   "metadata": {},
   "outputs": [],
   "source": [
    "BUCKET_NAME = \"bq-experiments-fraud\"\n",
    "BUCKET_URI = f\"gs://{BUCKET_NAME}\""
   ]
  },
  {
   "cell_type": "markdown",
   "id": "92ed0281-e52a-4990-945b-7c70ea85d3cf",
   "metadata": {},
   "source": [
    "## Initialize Vertex AI SDK for Python"
   ]
  },
  {
   "cell_type": "code",
   "execution_count": 5,
   "id": "56661f31-232c-4205-bd34-82dbbfbdee33",
   "metadata": {},
   "outputs": [],
   "source": [
    "aip.init(project=PROJECT_ID, location=REGION)"
   ]
  },
  {
   "cell_type": "markdown",
   "id": "be872ec1-aaa1-4c34-9dbb-fe590c97bb1f",
   "metadata": {},
   "source": [
    "## Data Dictionary"
   ]
  },
  {
   "cell_type": "markdown",
   "id": "6d59d7c3-0df4-45fb-aeb7-1dc2e6e529df",
   "metadata": {},
   "source": [
    "**step**: **int**: 1-743:  Maps a unit of time in the real world. In this case 1 step is 1 hour of time. <br>\n",
    "**type**: **enum**: CASH-IN, CASH-OUT, DEBIT, PAYMENT and TRANSFER <br>\n",
    "**amount**: **decimal**: 0-92.4m: amount of the transaction in local currency. <br>\n",
    "**nameOrig**: **string**: 6353307 unique values: customer who started the transaction. <br>\n",
    "**oldBalanceOrg**: **decimal**: 0-59.6m: initial balance before the transaction. <br>\n",
    "**newBalanceOrig**: **decimal**: 0-49.6m: customer's balance after the transaction. <br>\n",
    "**nameDest**: **string**: 2722326 unique values: recipient ID of the transaction. <br>\n",
    "**oldBalanceDest**: **decimal**: 0-356m: initial recipient balance before the transaction. <br>\n",
    "**newBalanceDest**: **decimal**: 0-356m: recipient's balance after the transaction. <br>\n",
    "**isFraud**: **boolean**: 0-1: identifies a fraudulent transaction (1) and non fraudulent (0)<br>"
   ]
  },
  {
   "cell_type": "markdown",
   "id": "454286af-0c79-4ad8-a7ae-a157506f8dcb",
   "metadata": {},
   "source": [
    "## Create BigQuery Client"
   ]
  },
  {
   "cell_type": "code",
   "execution_count": 6,
   "id": "c73a30c9-20dc-4a2c-b41b-b574aff439a1",
   "metadata": {},
   "outputs": [],
   "source": [
    "bqclient = bigquery.Client(project=PROJECT_ID)"
   ]
  },
  {
   "cell_type": "markdown",
   "id": "19c1c60a-becd-48cc-9b5b-4203533f1dc2",
   "metadata": {},
   "source": [
    "## Create Dataset"
   ]
  },
  {
   "cell_type": "code",
   "execution_count": 7,
   "id": "3dd555da-d045-4f72-931a-15aa16b70253",
   "metadata": {},
   "outputs": [],
   "source": [
    "IMPORT_FILE = \"bq://bq-experiments-350102.synthetic_financial_fraud.fraud_data\"\n",
    "BQ_TABLE = \"bq-experiments-350102.synthetic_financial_fraud.fraud_data\""
   ]
  },
  {
   "cell_type": "code",
   "execution_count": 7,
   "id": "19e09413-74b0-477d-a7b4-1061cd8990c0",
   "metadata": {},
   "outputs": [
    {
     "name": "stdout",
     "output_type": "stream",
     "text": [
      "Created dataset bq-experiments-350102.synthetic_financial_fraud\n"
     ]
    }
   ],
   "source": [
    "# Send the dataset to the API for creation, with an explicit timeout.\n",
    "# Raises google.api_core.exceptions.Conflict if the Dataset already\n",
    "# exists within the project.\n",
    "dataset_id = \"bq-experiments-350102.synthetic_financial_fraud\"\n",
    "dataset = bigquery.Dataset(dataset_id)\n",
    "dataset.location = \"US\"\n",
    "dataset = bqclient.create_dataset(dataset, timeout=30)  # Make an API request.\n",
    "print(\"Created dataset {}.{}\".format(bqclient.project, dataset.dataset_id))"
   ]
  },
  {
   "cell_type": "markdown",
   "id": "f5f291f8-c1da-484c-9a4e-8b31153f9da2",
   "metadata": {},
   "source": [
    "## Create BiqQuery Load Job"
   ]
  },
  {
   "cell_type": "code",
   "execution_count": 8,
   "id": "5a049dbd-490c-4171-af0f-fa4c7afe4455",
   "metadata": {},
   "outputs": [
    {
     "name": "stdout",
     "output_type": "stream",
     "text": [
      "Loaded 6362620 rows to table bq-experiments-350102.synthetic_financial_fraud.fraud_data\n"
     ]
    }
   ],
   "source": [
    "table_id = BQ_TABLE\n",
    "\n",
    "job_config = bigquery.LoadJobConfig(\n",
    "    autodetect=False,\n",
    "    schema=[\n",
    "        bigquery.SchemaField(\"step\", \"INT64\", mode=\"REQUIRED\"),\n",
    "        bigquery.SchemaField(\"type\", \"STRING\", mode=\"REQUIRED\"),\n",
    "        bigquery.SchemaField(\"amount\", \"FLOAT64\", mode=\"REQUIRED\"),\n",
    "        bigquery.SchemaField(\"nameOrig\", \"STRING\", mode=\"REQUIRED\"),\n",
    "        bigquery.SchemaField(\"oldBalanceOrg\", \"FLOAT64\", mode=\"REQUIRED\"),\n",
    "        bigquery.SchemaField(\"newBalanceOrig\", \"FLOAT64\", mode=\"REQUIRED\"),\n",
    "        bigquery.SchemaField(\"nameDest\", \"STRING\", mode=\"REQUIRED\"),\n",
    "        bigquery.SchemaField(\"oldBalanceDest\", \"FLOAT64\", mode=\"REQUIRED\"),\n",
    "        bigquery.SchemaField(\"newBalanceDest\", \"FLOAT64\", mode=\"REQUIRED\"),\n",
    "        bigquery.SchemaField(\"isFraud\", \"BOOL\", mode=\"REQUIRED\"),\n",
    "        bigquery.SchemaField(\"isFlaggedFraud\", \"BOOL\", mode=\"REQUIRED\"),\n",
    "    ],\n",
    "    source_format=bigquery.SourceFormat.CSV,\n",
    "    write_disposition=\"WRITE_TRUNCATE\",\n",
    "    skip_leading_rows=1\n",
    ")\n",
    "uri = \"gs://bq-experiments-fraud/synthetic-fraud.csv\"\n",
    "\n",
    "load_job = bqclient.load_table_from_uri(\n",
    "    uri, table_id, job_config=job_config\n",
    ")  # Make an API request.\n",
    "\n",
    "load_job.result()  # Wait for the job to complete.\n",
    "\n",
    "table = bqclient.get_table(table_id)\n",
    "print(\"Loaded {} rows to table {}\".format(table.num_rows, table_id))"
   ]
  },
  {
   "cell_type": "code",
   "execution_count": 9,
   "id": "b7302d35-9974-40b3-9fbd-c58124e2a333",
   "metadata": {},
   "outputs": [
    {
     "data": {
      "text/html": [
       "<div>\n",
       "<style scoped>\n",
       "    .dataframe tbody tr th:only-of-type {\n",
       "        vertical-align: middle;\n",
       "    }\n",
       "\n",
       "    .dataframe tbody tr th {\n",
       "        vertical-align: top;\n",
       "    }\n",
       "\n",
       "    .dataframe thead th {\n",
       "        text-align: right;\n",
       "    }\n",
       "</style>\n",
       "<table border=\"1\" class=\"dataframe\">\n",
       "  <thead>\n",
       "    <tr style=\"text-align: right;\">\n",
       "      <th></th>\n",
       "      <th>step</th>\n",
       "      <th>type</th>\n",
       "      <th>amount</th>\n",
       "      <th>nameOrig</th>\n",
       "      <th>oldBalanceOrg</th>\n",
       "      <th>newBalanceOrig</th>\n",
       "      <th>nameDest</th>\n",
       "      <th>oldBalanceDest</th>\n",
       "      <th>newBalanceDest</th>\n",
       "      <th>isFraud</th>\n",
       "      <th>isFlaggedFraud</th>\n",
       "    </tr>\n",
       "  </thead>\n",
       "  <tbody>\n",
       "    <tr>\n",
       "      <th>0</th>\n",
       "      <td>255</td>\n",
       "      <td>DEBIT</td>\n",
       "      <td>3188.16</td>\n",
       "      <td>C389755673</td>\n",
       "      <td>29321.00</td>\n",
       "      <td>26132.84</td>\n",
       "      <td>C944464188</td>\n",
       "      <td>123342.90</td>\n",
       "      <td>126531.06</td>\n",
       "      <td>False</td>\n",
       "      <td>False</td>\n",
       "    </tr>\n",
       "    <tr>\n",
       "      <th>1</th>\n",
       "      <td>258</td>\n",
       "      <td>DEBIT</td>\n",
       "      <td>2488.01</td>\n",
       "      <td>C1943465811</td>\n",
       "      <td>20206.00</td>\n",
       "      <td>17717.99</td>\n",
       "      <td>C1935607545</td>\n",
       "      <td>5638603.71</td>\n",
       "      <td>5641091.72</td>\n",
       "      <td>False</td>\n",
       "      <td>False</td>\n",
       "    </tr>\n",
       "    <tr>\n",
       "      <th>2</th>\n",
       "      <td>1</td>\n",
       "      <td>DEBIT</td>\n",
       "      <td>2633.08</td>\n",
       "      <td>C1290614253</td>\n",
       "      <td>124905.00</td>\n",
       "      <td>122271.92</td>\n",
       "      <td>C1992550266</td>\n",
       "      <td>17146.00</td>\n",
       "      <td>0.00</td>\n",
       "      <td>False</td>\n",
       "      <td>False</td>\n",
       "    </tr>\n",
       "    <tr>\n",
       "      <th>3</th>\n",
       "      <td>266</td>\n",
       "      <td>DEBIT</td>\n",
       "      <td>1402.09</td>\n",
       "      <td>C2057629098</td>\n",
       "      <td>9990.00</td>\n",
       "      <td>8587.91</td>\n",
       "      <td>C1824011138</td>\n",
       "      <td>646222.73</td>\n",
       "      <td>647624.82</td>\n",
       "      <td>False</td>\n",
       "      <td>False</td>\n",
       "    </tr>\n",
       "    <tr>\n",
       "      <th>4</th>\n",
       "      <td>275</td>\n",
       "      <td>DEBIT</td>\n",
       "      <td>4927.73</td>\n",
       "      <td>C1136589927</td>\n",
       "      <td>184306.31</td>\n",
       "      <td>179378.58</td>\n",
       "      <td>C1245026661</td>\n",
       "      <td>1046650.66</td>\n",
       "      <td>1051578.39</td>\n",
       "      <td>False</td>\n",
       "      <td>False</td>\n",
       "    </tr>\n",
       "    <tr>\n",
       "      <th>5</th>\n",
       "      <td>21</td>\n",
       "      <td>DEBIT</td>\n",
       "      <td>811.90</td>\n",
       "      <td>C1967993506</td>\n",
       "      <td>16968.00</td>\n",
       "      <td>16156.10</td>\n",
       "      <td>C1585827223</td>\n",
       "      <td>71221.00</td>\n",
       "      <td>47517.08</td>\n",
       "      <td>False</td>\n",
       "      <td>False</td>\n",
       "    </tr>\n",
       "    <tr>\n",
       "      <th>6</th>\n",
       "      <td>21</td>\n",
       "      <td>DEBIT</td>\n",
       "      <td>4825.13</td>\n",
       "      <td>C1335966015</td>\n",
       "      <td>11112.00</td>\n",
       "      <td>6286.87</td>\n",
       "      <td>C1692363435</td>\n",
       "      <td>370704.19</td>\n",
       "      <td>375529.33</td>\n",
       "      <td>False</td>\n",
       "      <td>False</td>\n",
       "    </tr>\n",
       "    <tr>\n",
       "      <th>7</th>\n",
       "      <td>285</td>\n",
       "      <td>DEBIT</td>\n",
       "      <td>3554.68</td>\n",
       "      <td>C726737289</td>\n",
       "      <td>34695.00</td>\n",
       "      <td>31140.32</td>\n",
       "      <td>C1686875619</td>\n",
       "      <td>11272346.85</td>\n",
       "      <td>11275901.54</td>\n",
       "      <td>False</td>\n",
       "      <td>False</td>\n",
       "    </tr>\n",
       "    <tr>\n",
       "      <th>8</th>\n",
       "      <td>299</td>\n",
       "      <td>DEBIT</td>\n",
       "      <td>3183.18</td>\n",
       "      <td>C69438864</td>\n",
       "      <td>0.00</td>\n",
       "      <td>0.00</td>\n",
       "      <td>C1783180469</td>\n",
       "      <td>133928.89</td>\n",
       "      <td>137112.08</td>\n",
       "      <td>False</td>\n",
       "      <td>False</td>\n",
       "    </tr>\n",
       "    <tr>\n",
       "      <th>9</th>\n",
       "      <td>311</td>\n",
       "      <td>DEBIT</td>\n",
       "      <td>3944.99</td>\n",
       "      <td>C870531589</td>\n",
       "      <td>46741.00</td>\n",
       "      <td>42796.01</td>\n",
       "      <td>C1474446515</td>\n",
       "      <td>643826.85</td>\n",
       "      <td>647771.84</td>\n",
       "      <td>False</td>\n",
       "      <td>False</td>\n",
       "    </tr>\n",
       "  </tbody>\n",
       "</table>\n",
       "</div>"
      ],
      "text/plain": [
       "   step   type   amount     nameOrig  oldBalanceOrg  newBalanceOrig  \\\n",
       "0   255  DEBIT  3188.16   C389755673       29321.00        26132.84   \n",
       "1   258  DEBIT  2488.01  C1943465811       20206.00        17717.99   \n",
       "2     1  DEBIT  2633.08  C1290614253      124905.00       122271.92   \n",
       "3   266  DEBIT  1402.09  C2057629098        9990.00         8587.91   \n",
       "4   275  DEBIT  4927.73  C1136589927      184306.31       179378.58   \n",
       "5    21  DEBIT   811.90  C1967993506       16968.00        16156.10   \n",
       "6    21  DEBIT  4825.13  C1335966015       11112.00         6286.87   \n",
       "7   285  DEBIT  3554.68   C726737289       34695.00        31140.32   \n",
       "8   299  DEBIT  3183.18    C69438864           0.00            0.00   \n",
       "9   311  DEBIT  3944.99   C870531589       46741.00        42796.01   \n",
       "\n",
       "      nameDest  oldBalanceDest  newBalanceDest  isFraud  isFlaggedFraud  \n",
       "0   C944464188       123342.90       126531.06    False           False  \n",
       "1  C1935607545      5638603.71      5641091.72    False           False  \n",
       "2  C1992550266        17146.00            0.00    False           False  \n",
       "3  C1824011138       646222.73       647624.82    False           False  \n",
       "4  C1245026661      1046650.66      1051578.39    False           False  \n",
       "5  C1585827223        71221.00        47517.08    False           False  \n",
       "6  C1692363435       370704.19       375529.33    False           False  \n",
       "7  C1686875619     11272346.85     11275901.54    False           False  \n",
       "8  C1783180469       133928.89       137112.08    False           False  \n",
       "9  C1474446515       643826.85       647771.84    False           False  "
      ]
     },
     "execution_count": 9,
     "metadata": {},
     "output_type": "execute_result"
    }
   ],
   "source": [
    "query = \"\"\"\n",
    "    SELECT step,\n",
    "        type, \n",
    "        amount,\n",
    "        nameOrig,\n",
    "        oldBalanceOrg,\n",
    "        newBalanceOrig,\n",
    "        nameDest,\n",
    "        oldBalanceDest,\n",
    "        newBalanceDest,\n",
    "        isFraud,\n",
    "        isFlaggedFraud\n",
    "    FROM `bq-experiments-350102.synthetic_financial_fraud.fraud_data`\n",
    "\"\"\"\n",
    "\n",
    "_ = bqclient.query(query)\n",
    "rows = _.result()\n",
    "dataframe = rows.to_dataframe()\n",
    "dataframe.head(10)"
   ]
  },
  {
   "cell_type": "markdown",
   "id": "b37ea488-84e5-4753-af3f-1876f08c069f",
   "metadata": {},
   "source": [
    "# Generate Dataset Statistics with Tensorflow Data Validation"
   ]
  },
  {
   "cell_type": "code",
   "execution_count": 12,
   "id": "ba798bf8-0075-4875-a1c7-e35232161818",
   "metadata": {},
   "outputs": [],
   "source": [
    "stats = tfdv.generate_statistics_from_dataframe(\n",
    "    dataframe=dataframe,\n",
    "    stats_options=tfdv.StatsOptions(\n",
    "        label_feature=\"isFraud\", sample_rate=1, num_top_values=50\n",
    "    ),\n",
    ")"
   ]
  },
  {
   "cell_type": "code",
   "execution_count": 13,
   "id": "41aece71-0fb6-4011-90d8-58b544ec1065",
   "metadata": {},
   "outputs": [
    {
     "data": {
      "text/html": [
       "<iframe id='facets-iframe' width=\"100%\" height=\"500px\"></iframe>\n",
       "        <script>\n",
       "        facets_iframe = document.getElementById('facets-iframe');\n",
       "        facets_html = '<script src=\"https://cdnjs.cloudflare.com/ajax/libs/webcomponentsjs/1.3.3/webcomponents-lite.js\"><\\/script><link rel=\"import\" href=\"https://raw.githubusercontent.com/PAIR-code/facets/master/facets-dist/facets-jupyter.html\"><facets-overview proto-input=\"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\"></facets-overview>';\n",
       "        facets_iframe.srcdoc = facets_html;\n",
       "         facets_iframe.id = \"\";\n",
       "         setTimeout(() => {\n",
       "           facets_iframe.setAttribute('height', facets_iframe.contentWindow.document.body.offsetHeight + 'px')\n",
       "         }, 1500)\n",
       "         </script>"
      ],
      "text/plain": [
       "<IPython.core.display.HTML object>"
      ]
     },
     "metadata": {},
     "output_type": "display_data"
    }
   ],
   "source": [
    "tfdv.visualize_statistics(stats)"
   ]
  },
  {
   "cell_type": "markdown",
   "id": "d8811422-3835-446b-b284-f4a5bddf96da",
   "metadata": {},
   "source": [
    "## Explore BigQuery Dataset"
   ]
  },
  {
   "cell_type": "code",
   "execution_count": 8,
   "id": "31a1d4de-325b-49d6-ab7d-6044790a0890",
   "metadata": {},
   "outputs": [
    {
     "data": {
      "text/plain": [
       "<AxesSubplot:ylabel='amount'>"
      ]
     },
     "execution_count": 8,
     "metadata": {},
     "output_type": "execute_result"
    },
    {
     "data": {
      "image/png": "[encoded data removed]",
      "text/plain": [
       "<Figure size 800x800 with 1 Axes>"
      ]
     },
     "metadata": {},
     "output_type": "display_data"
    }
   ],
   "source": [
    "dataframe.groupby('type')['amount'].sum().plot.pie(y='amount', figsize=(8, 8))"
   ]
  },
  {
   "cell_type": "code",
   "execution_count": 8,
   "id": "22cce5a4-0468-41b8-a23e-176ed965d055",
   "metadata": {},
   "outputs": [
    {
     "name": "stdout",
     "output_type": "stream",
     "text": [
      "The types of fraudulent transactions are ['CASH_OUT', 'TRANSFER']\n"
     ]
    }
   ],
   "source": [
    "print('The types of fraudulent transactions are {}'.format(list(dataframe.loc[dataframe.isFraud == 1].type.drop_duplicates().values)))"
   ]
  },
  {
   "cell_type": "code",
   "execution_count": 9,
   "id": "674bcc81-fd3b-4764-b5bc-235b5d452563",
   "metadata": {},
   "outputs": [
    {
     "name": "stdout",
     "output_type": "stream",
     "text": [
      "The number of fraudulent TRANSFERs = 4097\n"
     ]
    }
   ],
   "source": [
    "dfFraudTransfer = dataframe.loc[(dataframe.isFraud == 1) & (dataframe.type == 'TRANSFER')]\n",
    "print ('The number of fraudulent TRANSFERs = {}'.format(len(dfFraudTransfer)))"
   ]
  },
  {
   "cell_type": "code",
   "execution_count": 10,
   "id": "1b5c9bfa-9f15-4f0f-9b2c-e919add565ce",
   "metadata": {},
   "outputs": [
    {
     "name": "stdout",
     "output_type": "stream",
     "text": [
      "The number of fraudulent CASH_OUTs = 4116\n"
     ]
    }
   ],
   "source": [
    "dfFraudCashout = dataframe.loc[(dataframe.isFraud == 1) & (dataframe.type == 'CASH_OUT')]\n",
    "print ('The number of fraudulent CASH_OUTs = {}'.format(len(dfFraudCashout)))"
   ]
  },
  {
   "cell_type": "code",
   "execution_count": 12,
   "id": "a705c715-8903-4351-958d-3dc1ef66ce06",
   "metadata": {},
   "outputs": [
    {
     "name": "stdout",
     "output_type": "stream",
     "text": [
      "The type of transactions in which isFlaggedFraud is set: ['TRANSFER']\n"
     ]
    }
   ],
   "source": [
    "print('The type of transactions in which isFlaggedFraud is set: {}'.format(list(dataframe.loc[dataframe.isFlaggedFraud == 1].type.drop_duplicates()))) "
   ]
  },
  {
   "cell_type": "code",
   "execution_count": 14,
   "id": "27a3e99c-c24b-42f2-bdf4-1d8f775e2e81",
   "metadata": {},
   "outputs": [
    {
     "name": "stdout",
     "output_type": "stream",
     "text": [
      "Min amount transacted when isFlaggedFraud is set= 353874.22\n"
     ]
    }
   ],
   "source": [
    "dfFlagged = dataframe.loc[dataframe.isFlaggedFraud == 1]\n",
    "print('Min amount transacted when isFlaggedFraud is set= {}'.format(dfFlagged.amount.min()))"
   ]
  },
  {
   "cell_type": "code",
   "execution_count": 16,
   "id": "d2ce1225-4d0d-40a2-81c2-052314e2a8a1",
   "metadata": {},
   "outputs": [
    {
     "name": "stdout",
     "output_type": "stream",
     "text": [
      "Max amount transacted when isFlaggedFraud is set= 10000000.0\n"
     ]
    }
   ],
   "source": [
    "print('Max amount transacted when isFlaggedFraud is set= {}'.format(dfFlagged.amount.max()))"
   ]
  },
  {
   "cell_type": "markdown",
   "id": "cecd2e84-a71f-477d-832f-18e4aa3a21d3",
   "metadata": {},
   "source": [
    "## Create Vertex Managed Dataset"
   ]
  },
  {
   "cell_type": "markdown",
   "id": "5718e10d-bd1a-4035-a13e-1fe82097bf33",
   "metadata": {},
   "source": [
    "Create the Dataset resource using the create method for the TabularDataset class, which takes the following parameters:\n",
    "- display_name: The human readable name for the Dataset resource.\n",
    "- bq_source: Import data items from a BigQuery table into the Dataset resource.\n",
    "- labels: User defined metadata. In this example, you store the location of the Cloud Storage bucket containing the user defined data."
   ]
  },
  {
   "cell_type": "code",
   "execution_count": 10,
   "id": "48b04990-1017-441d-a2d9-62fd44f4218c",
   "metadata": {},
   "outputs": [],
   "source": [
    "from datetime import datetime\n",
    "\n",
    "TIMESTAMP = datetime.now().strftime(\"%Y%m%d%H%M%S\")"
   ]
  },
  {
   "cell_type": "code",
   "execution_count": 11,
   "id": "9cdd4906-3225-47a5-8d3d-60cd5d04fdda",
   "metadata": {},
   "outputs": [
    {
     "name": "stdout",
     "output_type": "stream",
     "text": [
      "Creating TabularDataset\n",
      "Create TabularDataset backing LRO: projects/402374189238/locations/us-central1/datasets/8805577409509195776/operations/885618476863979520\n",
      "TabularDataset created. Resource name: projects/402374189238/locations/us-central1/datasets/8805577409509195776\n",
      "To use this TabularDataset in another session:\n",
      "ds = aiplatform.TabularDataset('projects/402374189238/locations/us-central1/datasets/8805577409509195776')\n",
      "projects/402374189238/locations/us-central1/datasets/8805577409509195776\n"
     ]
    }
   ],
   "source": [
    "dataset = aip.TabularDataset.create(\n",
    "    display_name=\"Synthetic Financial Fraud\" + \"_\" + TIMESTAMP,\n",
    "    bq_source=[IMPORT_FILE],\n",
    "    labels={\"user_metadata\": BUCKET_NAME},\n",
    ")\n",
    "\n",
    "label_column = \"tip_bin\"\n",
    "\n",
    "print(dataset.resource_name)"
   ]
  }
 ],
 "metadata": {
  "kernelspec": {
   "display_name": "Python (Local)",
   "language": "python",
   "name": "local-base"
  },
  "language_info": {
   "codemirror_mode": {
    "name": "ipython",
    "version": 3
   },
   "file_extension": ".py",
   "mimetype": "text/x-python",
   "name": "python",
   "nbconvert_exporter": "python",
   "pygments_lexer": "ipython3",
   "version": "3.7.12"
  }
 },
 "nbformat": 4,
 "nbformat_minor": 5
}
