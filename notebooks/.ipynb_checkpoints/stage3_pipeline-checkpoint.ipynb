{
 "cells": [
  {
   "cell_type": "markdown",
   "id": "b81ab15f-f995-4ea8-a96f-0d2f16613ac2",
   "metadata": {},
   "source": [
    "# MLOps Stage 3: Automation: Creating a Kubeflow Pipeline"
   ]
  },
  {
   "cell_type": "markdown",
   "id": "4edd633a-0918-48df-abd1-78e36c3a7cc8",
   "metadata": {},
   "source": [
    "## Overview"
   ]
  },
  {
   "cell_type": "markdown",
   "id": "183d8232-1195-4a3a-908a-6a1172ac6455",
   "metadata": {},
   "source": [
    "In this notebook, we create a Vertex AI Pipeline for training and deploying a XGBoost model, and using Vertex AI Experiments to log training parameters and metrics."
   ]
  },
  {
   "cell_type": "markdown",
   "id": "24f68c2c-526d-4a86-9027-8ee6073c8479",
   "metadata": {},
   "source": [
    "## Objective"
   ]
  },
  {
   "cell_type": "markdown",
   "id": "553cfe6d-c7d0-430f-92da-37fe1dc0ca11",
   "metadata": {},
   "source": [
    "Here, we use prebuilt components in Vertex AI Pipelines for training and deploying a XGBoost custom model, and using Vertex AI Experiments to log the corresponding training parameters and metrics, from within the training package.\n",
    "\n",
    "This notebook uses the following Google Cloud ML services:\n",
    "- Google Cloud Pipeline Components\n",
    "- Vertex AI Training\n",
    "- Vertex AI Pipelines\n",
    "- Vertex AI Experiments\n",
    "\n",
    "The steps performed include:\n",
    "- Construct a XGBoost training package.\n",
    "- Add tracking the experiment\n",
    "    - Construct a pipeline to train and deploy a XGBoost model.\n",
    "- Execute the pipeline."
   ]
  },
  {
   "cell_type": "markdown",
   "id": "b894cf5d-4f27-4836-b97d-4ddf435b8776",
   "metadata": {},
   "source": [
    "## Dataset"
   ]
  },
  {
   "cell_type": "markdown",
   "id": "26ec434f-8933-40a8-9d39-e13e60cb1183",
   "metadata": {},
   "source": [
    "The dataset used in this example is the Synthetic Financial Fraud dataset from Kaggle. PaySim simulates mobile money transactions based on a sample of real transactions extracted from one month of financial logs from a mobile money service implemented in an African country. The original logs were provided by a multinational company, who is the provider of the mobile financial service which is currently running in more than 14 countries all around the world."
   ]
  },
  {
   "cell_type": "markdown",
   "id": "88c26dd5-5c11-4f42-90c8-18b55961c8f4",
   "metadata": {},
   "source": [
    "## Installation"
   ]
  },
  {
   "cell_type": "markdown",
   "id": "1d7bee4c-bbe4-4d9a-979b-63c182644193",
   "metadata": {},
   "source": [
    "Install the following packages for executing this notebook."
   ]
  },
  {
   "cell_type": "code",
   "execution_count": 1,
   "id": "018a1a14-6c84-4948-ad70-0f1992e3ec6d",
   "metadata": {},
   "outputs": [],
   "source": [
    "import os\n",
    "\n",
    "# The Vertex AI Workbench Notebook product has specific requirements\n",
    "IS_WORKBENCH_NOTEBOOK = os.getenv(\"DL_ANACONDA_HOME\") and not os.getenv(\"VIRTUAL_ENV\")\n",
    "IS_USER_MANAGED_WORKBENCH_NOTEBOOK = os.path.exists(\n",
    "    \"/opt/deeplearning/metadata/env_version\"\n",
    ")\n",
    "\n",
    "# Vertex AI Notebook requires dependencies to be installed with '--user'\n",
    "USER_FLAG = \"\"\n",
    "if IS_WORKBENCH_NOTEBOOK:\n",
    "    USER_FLAG = \"--user\"\n",
    "\n",
    "! pip3 install {USER_FLAG} --upgrade --quiet google-cloud-aiplatform \\\n",
    "                                             google-cloud-pipeline-components \\\n",
    "                                             kfp "
   ]
  },
  {
   "cell_type": "markdown",
   "id": "8d1f76ee-8169-41a7-bee5-78a6e4904cc9",
   "metadata": {},
   "source": [
    "## Restart the Kernel"
   ]
  },
  {
   "cell_type": "markdown",
   "id": "48567db6-06b8-45db-8082-1cab2c58963d",
   "metadata": {},
   "source": [
    "Once you've installed the additional packages, you need to restart the notebook kernel so it can find the packages."
   ]
  },
  {
   "cell_type": "code",
   "execution_count": 2,
   "id": "633b44c2-2043-4296-91a2-38f140b9a243",
   "metadata": {},
   "outputs": [],
   "source": [
    "import os\n",
    "\n",
    "if not os.getenv(\"IS_TESTING\"):\n",
    "    # Automatically restart kernel after installs\n",
    "    import IPython\n",
    "\n",
    "    app = IPython.Application.instance()\n",
    "    app.kernel.do_shutdown(True)"
   ]
  },
  {
   "cell_type": "markdown",
   "id": "d2a821da-f7c5-4411-939e-93a35c88147d",
   "metadata": {},
   "source": [
    "## Set up Project Information"
   ]
  },
  {
   "cell_type": "code",
   "execution_count": 1,
   "id": "d18fe9e8-561a-4562-8482-d62b133d74c6",
   "metadata": {},
   "outputs": [],
   "source": [
    "PROJECT_ID = \"bq-experiments-350102\""
   ]
  },
  {
   "cell_type": "code",
   "execution_count": 2,
   "id": "7d40dd51-4c2b-4c5c-90c9-0be1105b51db",
   "metadata": {},
   "outputs": [],
   "source": [
    "REGION = \"us-central1\""
   ]
  },
  {
   "cell_type": "code",
   "execution_count": 3,
   "id": "91ebc409-6672-4395-a8b0-8b8c5c352efd",
   "metadata": {},
   "outputs": [],
   "source": [
    "from datetime import datetime\n",
    "TIMESTAMP = datetime.now().strftime(\"%Y%m%d%H%M%S\")"
   ]
  },
  {
   "cell_type": "code",
   "execution_count": 4,
   "id": "e5c12512-3616-40f7-b13c-64f154799efe",
   "metadata": {},
   "outputs": [],
   "source": [
    "BUCKET_NAME = \"bq-experiments-fraud\" \n",
    "BUCKET_URI = f\"gs://{BUCKET_NAME}\""
   ]
  },
  {
   "cell_type": "code",
   "execution_count": 5,
   "id": "f08314e2-6bf4-4dee-89e9-2b8da964df1d",
   "metadata": {},
   "outputs": [
    {
     "name": "stdout",
     "output_type": "stream",
     "text": [
      " 493534783  2022-08-25T16:24:56Z  gs://bq-experiments-fraud/synthetic-fraud.csv#1661444696515532  metageneration=1\n",
      "      2133  2022-11-11T15:17:22Z  gs://bq-experiments-fraud/trainer_fraud.tar.gz#1668179842539274  metageneration=1\n",
      "                                 gs://bq-experiments-fraud/mqmcvfd2/\n",
      "                                 gs://bq-experiments-fraud/pipelines/\n",
      "                                 gs://bq-experiments-fraud/q0pjoruv/\n",
      "                                 gs://bq-experiments-fraud/vy5rkufq/\n",
      "TOTAL: 2 objects, 493536916 bytes (470.67 MiB)\n"
     ]
    }
   ],
   "source": [
    "! gsutil ls -al $BUCKET_URI"
   ]
  },
  {
   "cell_type": "markdown",
   "id": "8d73090c-b4b9-4af5-8574-0003a5caab07",
   "metadata": {},
   "source": [
    "## Import Libraries"
   ]
  },
  {
   "cell_type": "code",
   "execution_count": 10,
   "id": "91da6d95-70a2-40a6-8021-bc47576597b0",
   "metadata": {},
   "outputs": [],
   "source": [
    "import json\n",
    "import os\n",
    "\n",
    "import google.cloud.aiplatform as aip\n",
    "import tensorflow as tf\n",
    "from kfp import dsl\n",
    "from kfp.v2 import compiler"
   ]
  },
  {
   "cell_type": "markdown",
   "id": "31b668fb-5db1-4caa-a8ca-cff47d050481",
   "metadata": {},
   "source": [
    "## Initialize Vertex AI SDK"
   ]
  },
  {
   "cell_type": "code",
   "execution_count": 7,
   "id": "d8254131-70ac-4bb9-a26b-e436b1f4ecff",
   "metadata": {},
   "outputs": [],
   "source": [
    "aip.init(project=PROJECT_ID, staging_bucket=BUCKET_URI)"
   ]
  },
  {
   "cell_type": "markdown",
   "id": "9c67cacd-6282-4c45-9829-2813211e306c",
   "metadata": {},
   "source": [
    "## Set Pre-built Containers"
   ]
  },
  {
   "cell_type": "code",
   "execution_count": 8,
   "id": "71c335f3-9a92-42ae-9902-16dd93cd115c",
   "metadata": {},
   "outputs": [
    {
     "name": "stdout",
     "output_type": "stream",
     "text": [
      "us-docker.pkg.dev/vertex-ai/training/xgboost-cpu.1-1:latest\n"
     ]
    }
   ],
   "source": [
    "TRAIN_VERSION = \"xgboost-cpu.1-1\"\n",
    "DEPLOY_VERSION = \"xgboost-cpu.1-1\"\n",
    "\n",
    "TRAIN_IMAGE = \"{}-docker.pkg.dev/vertex-ai/training/{}:latest\".format(\n",
    "    REGION.split(\"-\")[0], TRAIN_VERSION\n",
    ")\n",
    "\n",
    "\n",
    "print(TRAIN_IMAGE)"
   ]
  },
  {
   "cell_type": "markdown",
   "id": "b0451f57-48f9-4d42-a60b-e3604f73d58b",
   "metadata": {},
   "source": [
    "## Set Machine Type"
   ]
  },
  {
   "cell_type": "code",
   "execution_count": 11,
   "id": "7dc0ef92-bb93-4915-ac2e-7aabd0e97565",
   "metadata": {},
   "outputs": [
    {
     "name": "stdout",
     "output_type": "stream",
     "text": [
      "Train machine type n1-standard-4\n"
     ]
    }
   ],
   "source": [
    "if os.getenv(\"IS_TESTING_TRAIN_MACHINE\"):\n",
    "    MACHINE_TYPE = os.getenv(\"IS_TESTING_TRAIN_MACHINE\")\n",
    "else:\n",
    "    MACHINE_TYPE = \"n1-standard\"\n",
    "\n",
    "VCPU = \"4\"\n",
    "TRAIN_COMPUTE = MACHINE_TYPE + \"-\" + VCPU\n",
    "print(\"Train machine type\", TRAIN_COMPUTE)"
   ]
  },
  {
   "cell_type": "code",
   "execution_count": null,
   "id": "ccf8b7ca-0ed2-40d0-8e3a-15cd16fcd4bb",
   "metadata": {},
   "outputs": [],
   "source": []
  }
 ],
 "metadata": {
  "kernelspec": {
   "display_name": "Python (Local)",
   "language": "python",
   "name": "local-base"
  },
  "language_info": {
   "codemirror_mode": {
    "name": "ipython",
    "version": 3
   },
   "file_extension": ".py",
   "mimetype": "text/x-python",
   "name": "python",
   "nbconvert_exporter": "python",
   "pygments_lexer": "ipython3",
   "version": "3.7.12"
  }
 },
 "nbformat": 4,
 "nbformat_minor": 5
}
