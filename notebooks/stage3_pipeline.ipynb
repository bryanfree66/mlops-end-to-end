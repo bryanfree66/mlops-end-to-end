{
 "cells": [
  {
   "cell_type": "markdown",
   "id": "b81ab15f-f995-4ea8-a96f-0d2f16613ac2",
   "metadata": {},
   "source": [
    "# MLOps Stage 3: Automation: Creating a Kubeflow Pipeline"
   ]
  },
  {
   "cell_type": "code",
   "execution_count": null,
   "id": "cc141a2d-5e18-4bff-b460-78316a4b5e34",
   "metadata": {},
   "outputs": [],
   "source": []
  }
 ],
 "metadata": {
  "kernelspec": {
   "display_name": "Python (Local)",
   "language": "python",
   "name": "local-base"
  },
  "language_info": {
   "codemirror_mode": {
    "name": "ipython",
    "version": 3
   },
   "file_extension": ".py",
   "mimetype": "text/x-python",
   "name": "python",
   "nbconvert_exporter": "python",
   "pygments_lexer": "ipython3",
   "version": "3.7.12"
  }
 },
 "nbformat": 4,
 "nbformat_minor": 5
}
