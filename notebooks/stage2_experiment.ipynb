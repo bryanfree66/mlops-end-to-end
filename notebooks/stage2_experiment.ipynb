{
 "cells": [
  {
   "cell_type": "markdown",
   "id": "3b5953ed-8e78-453b-a570-b7f8b8d98681",
   "metadata": {},
   "source": [
    "# MLOps stage 2 : Experimentation: Vertex AI Training for XGBoost with Hyperparameter Tuning"
   ]
  },
  {
   "cell_type": "markdown",
   "id": "9abe529b-02be-4141-beab-1be13040ea63",
   "metadata": {},
   "source": [
    "## Overview"
   ]
  },
  {
   "cell_type": "markdown",
   "id": "31f6c452-5db7-4713-971a-5b232e063f00",
   "metadata": {},
   "source": [
    "This notebook demonstrates how to use Vertex AI for E2E MLOps on Google Cloud in production. Here we are covering stage 2 : Vertex AI training for XGBoost with automated hyperparameter tuning"
   ]
  },
  {
   "cell_type": "markdown",
   "id": "6ec46cb6-727c-4e32-8175-c1c62d637d05",
   "metadata": {},
   "source": [
    "## Objective"
   ]
  },
  {
   "cell_type": "markdown",
   "id": "f42394b1-0a9c-4aa6-accb-0fc40b3ee3c9",
   "metadata": {},
   "source": [
    "In this tutorial, you learn how to use Vertex AI Hyperparameter Tuning for training a XGBoost custom model.\n",
    "\n",
    "This tutorial uses the following Google Cloud ML services:\n",
    "- Vertex AI Training\n",
    "- Vertex AI Hyperparameter Tuning\n",
    "- Vertex AI Vizier\n",
    "- Vertex AI Model resource\n",
    "\n",
    "The steps performed include:\n",
    "- Training using a Python package.\n",
    "- Report accuracy when hyperparameter tuning.\n",
    "- Save the model artifacts to Cloud Storage using GCSFuse.\n",
    "- Create a Vertex AI Model resource."
   ]
  },
  {
   "cell_type": "markdown",
   "id": "b74267e6-70e3-418a-b985-fbbf4cfd5ac6",
   "metadata": {},
   "source": [
    "## Dataset"
   ]
  },
  {
   "cell_type": "markdown",
   "id": "c8a2374b-17ca-4baf-9b2d-2fa3cd7b8ab7",
   "metadata": {},
   "source": [
    "The dataset used in this example is the Synthetic Financial Fraud dataset from Kaggle. PaySim simulates mobile money transactions based on a sample of real transactions extracted from one month of financial logs from a mobile money service implemented in an African country. The original logs were provided by a multinational company, who is the provider of the mobile financial service which is currently running in more than 14 countries all around the world."
   ]
  },
  {
   "cell_type": "markdown",
   "id": "514f4c93-9392-4769-8d26-c3e405890c58",
   "metadata": {},
   "source": [
    "## Installations"
   ]
  },
  {
   "cell_type": "code",
   "execution_count": 1,
   "id": "5794cd2c-5b51-44a5-aa53-f1657c839a2c",
   "metadata": {},
   "outputs": [],
   "source": [
    "import os\n",
    "\n",
    "# The Vertex AI Workbench Notebook product has specific requirements\n",
    "IS_WORKBENCH_NOTEBOOK = os.getenv(\"DL_ANACONDA_HOME\") and not os.getenv(\"VIRTUAL_ENV\")\n",
    "IS_USER_MANAGED_WORKBENCH_NOTEBOOK = os.path.exists(\n",
    "    \"/opt/deeplearning/metadata/env_version\"\n",
    ")\n",
    "\n",
    "# Vertex AI Notebook requires dependencies to be installed with '--user'\n",
    "USER_FLAG = \"\"\n",
    "if IS_WORKBENCH_NOTEBOOK:\n",
    "    USER_FLAG = \"--user\"\n",
    "\n",
    "! pip3 install --upgrade google-cloud-aiplatform $USER_FLAG -q"
   ]
  },
  {
   "cell_type": "markdown",
   "id": "1d718262-e405-46c9-8861-628b4810cb0f",
   "metadata": {},
   "source": [
    "## Restart Kernel"
   ]
  },
  {
   "cell_type": "code",
   "execution_count": 2,
   "id": "aff030b4-7d3a-4dc9-8d96-96e79ce97057",
   "metadata": {},
   "outputs": [],
   "source": [
    "import os\n",
    "\n",
    "if not os.getenv(\"IS_TESTING\"):\n",
    "    # Automatically restart kernel after installs\n",
    "    import IPython\n",
    "\n",
    "    app = IPython.Application.instance()\n",
    "    app.kernel.do_shutdown(True)"
   ]
  },
  {
   "cell_type": "code",
   "execution_count": null,
   "id": "fc06495f-c8f1-41e5-bfaa-bf62f8e3dd25",
   "metadata": {},
   "outputs": [],
   "source": []
  }
 ],
 "metadata": {
  "kernelspec": {
   "display_name": "Python (Local)",
   "language": "python",
   "name": "local-base"
  },
  "language_info": {
   "codemirror_mode": {
    "name": "ipython",
    "version": 3
   },
   "file_extension": ".py",
   "mimetype": "text/x-python",
   "name": "python",
   "nbconvert_exporter": "python",
   "pygments_lexer": "ipython3",
   "version": "3.7.12"
  }
 },
 "nbformat": 4,
 "nbformat_minor": 5
}
